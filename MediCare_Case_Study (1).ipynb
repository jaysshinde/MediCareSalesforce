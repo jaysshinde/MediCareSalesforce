{
  "cells": [
    {
      "cell_type": "code",
      "source": [
        "from google.colab import drive\n",
        "drive.mount('/content/drive')"
      ],
      "metadata": {
        "colab": {
          "base_uri": "https://localhost:8080/"
        },
        "id": "d_dEVO4WMPG8",
        "outputId": "178eeea3-6033-4736-e868-dad496416dff"
      },
      "id": "d_dEVO4WMPG8",
      "execution_count": null,
      "outputs": [
        {
          "output_type": "stream",
          "name": "stdout",
          "text": [
            "Mounted at /content/drive\n"
          ]
        }
      ]
    },
    {
      "cell_type": "code",
      "execution_count": null,
      "id": "00859c9a",
      "metadata": {
        "id": "00859c9a"
      },
      "outputs": [],
      "source": [
        "import pandas as pd"
      ]
    },
    {
      "cell_type": "code",
      "execution_count": null,
      "id": "e73bdfb0",
      "metadata": {
        "id": "e73bdfb0"
      },
      "outputs": [],
      "source": [
        "data = pd.read_csv(\"/content/drive/MyDrive/Medicare_Physician_Other_Practitioners_by_Provider_and_Service_2019 2.csv\")"
      ]
    },
    {
      "cell_type": "code",
      "execution_count": null,
      "id": "fa7103cf",
      "metadata": {
        "colab": {
          "base_uri": "https://localhost:8080/",
          "height": 647
        },
        "id": "fa7103cf",
        "outputId": "44325c0d-154c-41bf-af93-fb670f1807e5"
      },
      "outputs": [
        {
          "output_type": "execute_result",
          "data": {
            "text/plain": [
              "   Rndrng_NPI                   Rndrng_Prvdr_Last_Org_Name  \\\n",
              "0  1003001363                                      Stevens   \n",
              "1  1003013335                                        Sarti   \n",
              "2  1003015843  Northbay Physician's Surgery Center, L.L.C.   \n",
              "3  1003018748                                       Thomas   \n",
              "4  1003022500                                 Sundararajan   \n",
              "\n",
              "  Rndrng_Prvdr_First_Name Rndrng_Prvdr_MI Rndrng_Prvdr_Crdntls  \\\n",
              "0                 Charles             NaN                 M.D.   \n",
              "1                    Juan               F                 M.D.   \n",
              "2                     NaN             NaN                  NaN   \n",
              "3                    Brad               A                   MD   \n",
              "4               Venkatesh             NaN                 M.D.   \n",
              "\n",
              "  Rndrng_Prvdr_Gndr Rndrng_Prvdr_Ent_Cd             Rndrng_Prvdr_St1  \\\n",
              "0                 M                   I    1665 S Imperial Ave Ste D   \n",
              "1                 M                   I        2545 West Hammer Lane   \n",
              "2               NaN                   O           1006 Nut Tree Road   \n",
              "3                 M                   I  5 Saint Vincent Cir Ste 502   \n",
              "4                 M                   I           2701 Blair Mill Rd   \n",
              "\n",
              "  Rndrng_Prvdr_St2 Rndrng_Prvdr_City  ...  \\\n",
              "0              NaN         El Centro  ...   \n",
              "1              NaN          Stockton  ...   \n",
              "2              NaN         Vacaville  ...   \n",
              "3              NaN       Little Rock  ...   \n",
              "4              #35      Willow Grove  ...   \n",
              "\n",
              "                                          HCPCS_Desc  HCPCS_Drug_Ind  \\\n",
              "0  Injection of substance into spinal canal of up...               N   \n",
              "1  Injection of substance into spinal canal of up...               N   \n",
              "2  Injection of substance into spinal canal of up...               N   \n",
              "3  Injection of substance into spinal canal of up...               N   \n",
              "4  Injection of substance into spinal canal of up...               N   \n",
              "\n",
              "   Place_Of_Srvc  Tot_Benes Tot_Srvcs Tot_Bene_Day_Srvcs Avg_Sbmtd_Chrg  \\\n",
              "0              O         28        60                 60     647.204167   \n",
              "1              F         19        20                 20     973.000000   \n",
              "2              F         48        58                 58    3323.848276   \n",
              "3              O         33        54                 54     570.297778   \n",
              "4              F         31        42                 42    2330.000000   \n",
              "\n",
              "  Avg_Mdcr_Alowd_Amt  Avg_Mdcr_Pymt_Amt Avg_Mdcr_Stdzd_Amt  \n",
              "0         247.841167         186.405000         194.669167  \n",
              "1         111.954000          80.568000          78.066000  \n",
              "2         414.936207         319.329310         230.749483  \n",
              "3         229.776296         173.138148         193.361296  \n",
              "4         112.972381          87.444048          84.615000  \n",
              "\n",
              "[5 rows x 29 columns]"
            ],
            "text/html": [
              "\n",
              "  <div id=\"df-97e33029-da80-45b8-9076-78b3892144f0\">\n",
              "    <div class=\"colab-df-container\">\n",
              "      <div>\n",
              "<style scoped>\n",
              "    .dataframe tbody tr th:only-of-type {\n",
              "        vertical-align: middle;\n",
              "    }\n",
              "\n",
              "    .dataframe tbody tr th {\n",
              "        vertical-align: top;\n",
              "    }\n",
              "\n",
              "    .dataframe thead th {\n",
              "        text-align: right;\n",
              "    }\n",
              "</style>\n",
              "<table border=\"1\" class=\"dataframe\">\n",
              "  <thead>\n",
              "    <tr style=\"text-align: right;\">\n",
              "      <th></th>\n",
              "      <th>Rndrng_NPI</th>\n",
              "      <th>Rndrng_Prvdr_Last_Org_Name</th>\n",
              "      <th>Rndrng_Prvdr_First_Name</th>\n",
              "      <th>Rndrng_Prvdr_MI</th>\n",
              "      <th>Rndrng_Prvdr_Crdntls</th>\n",
              "      <th>Rndrng_Prvdr_Gndr</th>\n",
              "      <th>Rndrng_Prvdr_Ent_Cd</th>\n",
              "      <th>Rndrng_Prvdr_St1</th>\n",
              "      <th>Rndrng_Prvdr_St2</th>\n",
              "      <th>Rndrng_Prvdr_City</th>\n",
              "      <th>...</th>\n",
              "      <th>HCPCS_Desc</th>\n",
              "      <th>HCPCS_Drug_Ind</th>\n",
              "      <th>Place_Of_Srvc</th>\n",
              "      <th>Tot_Benes</th>\n",
              "      <th>Tot_Srvcs</th>\n",
              "      <th>Tot_Bene_Day_Srvcs</th>\n",
              "      <th>Avg_Sbmtd_Chrg</th>\n",
              "      <th>Avg_Mdcr_Alowd_Amt</th>\n",
              "      <th>Avg_Mdcr_Pymt_Amt</th>\n",
              "      <th>Avg_Mdcr_Stdzd_Amt</th>\n",
              "    </tr>\n",
              "  </thead>\n",
              "  <tbody>\n",
              "    <tr>\n",
              "      <th>0</th>\n",
              "      <td>1003001363</td>\n",
              "      <td>Stevens</td>\n",
              "      <td>Charles</td>\n",
              "      <td>NaN</td>\n",
              "      <td>M.D.</td>\n",
              "      <td>M</td>\n",
              "      <td>I</td>\n",
              "      <td>1665 S Imperial Ave Ste D</td>\n",
              "      <td>NaN</td>\n",
              "      <td>El Centro</td>\n",
              "      <td>...</td>\n",
              "      <td>Injection of substance into spinal canal of up...</td>\n",
              "      <td>N</td>\n",
              "      <td>O</td>\n",
              "      <td>28</td>\n",
              "      <td>60</td>\n",
              "      <td>60</td>\n",
              "      <td>647.204167</td>\n",
              "      <td>247.841167</td>\n",
              "      <td>186.405000</td>\n",
              "      <td>194.669167</td>\n",
              "    </tr>\n",
              "    <tr>\n",
              "      <th>1</th>\n",
              "      <td>1003013335</td>\n",
              "      <td>Sarti</td>\n",
              "      <td>Juan</td>\n",
              "      <td>F</td>\n",
              "      <td>M.D.</td>\n",
              "      <td>M</td>\n",
              "      <td>I</td>\n",
              "      <td>2545 West Hammer Lane</td>\n",
              "      <td>NaN</td>\n",
              "      <td>Stockton</td>\n",
              "      <td>...</td>\n",
              "      <td>Injection of substance into spinal canal of up...</td>\n",
              "      <td>N</td>\n",
              "      <td>F</td>\n",
              "      <td>19</td>\n",
              "      <td>20</td>\n",
              "      <td>20</td>\n",
              "      <td>973.000000</td>\n",
              "      <td>111.954000</td>\n",
              "      <td>80.568000</td>\n",
              "      <td>78.066000</td>\n",
              "    </tr>\n",
              "    <tr>\n",
              "      <th>2</th>\n",
              "      <td>1003015843</td>\n",
              "      <td>Northbay Physician's Surgery Center, L.L.C.</td>\n",
              "      <td>NaN</td>\n",
              "      <td>NaN</td>\n",
              "      <td>NaN</td>\n",
              "      <td>NaN</td>\n",
              "      <td>O</td>\n",
              "      <td>1006 Nut Tree Road</td>\n",
              "      <td>NaN</td>\n",
              "      <td>Vacaville</td>\n",
              "      <td>...</td>\n",
              "      <td>Injection of substance into spinal canal of up...</td>\n",
              "      <td>N</td>\n",
              "      <td>F</td>\n",
              "      <td>48</td>\n",
              "      <td>58</td>\n",
              "      <td>58</td>\n",
              "      <td>3323.848276</td>\n",
              "      <td>414.936207</td>\n",
              "      <td>319.329310</td>\n",
              "      <td>230.749483</td>\n",
              "    </tr>\n",
              "    <tr>\n",
              "      <th>3</th>\n",
              "      <td>1003018748</td>\n",
              "      <td>Thomas</td>\n",
              "      <td>Brad</td>\n",
              "      <td>A</td>\n",
              "      <td>MD</td>\n",
              "      <td>M</td>\n",
              "      <td>I</td>\n",
              "      <td>5 Saint Vincent Cir Ste 502</td>\n",
              "      <td>NaN</td>\n",
              "      <td>Little Rock</td>\n",
              "      <td>...</td>\n",
              "      <td>Injection of substance into spinal canal of up...</td>\n",
              "      <td>N</td>\n",
              "      <td>O</td>\n",
              "      <td>33</td>\n",
              "      <td>54</td>\n",
              "      <td>54</td>\n",
              "      <td>570.297778</td>\n",
              "      <td>229.776296</td>\n",
              "      <td>173.138148</td>\n",
              "      <td>193.361296</td>\n",
              "    </tr>\n",
              "    <tr>\n",
              "      <th>4</th>\n",
              "      <td>1003022500</td>\n",
              "      <td>Sundararajan</td>\n",
              "      <td>Venkatesh</td>\n",
              "      <td>NaN</td>\n",
              "      <td>M.D.</td>\n",
              "      <td>M</td>\n",
              "      <td>I</td>\n",
              "      <td>2701 Blair Mill Rd</td>\n",
              "      <td>#35</td>\n",
              "      <td>Willow Grove</td>\n",
              "      <td>...</td>\n",
              "      <td>Injection of substance into spinal canal of up...</td>\n",
              "      <td>N</td>\n",
              "      <td>F</td>\n",
              "      <td>31</td>\n",
              "      <td>42</td>\n",
              "      <td>42</td>\n",
              "      <td>2330.000000</td>\n",
              "      <td>112.972381</td>\n",
              "      <td>87.444048</td>\n",
              "      <td>84.615000</td>\n",
              "    </tr>\n",
              "  </tbody>\n",
              "</table>\n",
              "<p>5 rows × 29 columns</p>\n",
              "</div>\n",
              "      <button class=\"colab-df-convert\" onclick=\"convertToInteractive('df-97e33029-da80-45b8-9076-78b3892144f0')\"\n",
              "              title=\"Convert this dataframe to an interactive table.\"\n",
              "              style=\"display:none;\">\n",
              "        \n",
              "  <svg xmlns=\"http://www.w3.org/2000/svg\" height=\"24px\"viewBox=\"0 0 24 24\"\n",
              "       width=\"24px\">\n",
              "    <path d=\"M0 0h24v24H0V0z\" fill=\"none\"/>\n",
              "    <path d=\"M18.56 5.44l.94 2.06.94-2.06 2.06-.94-2.06-.94-.94-2.06-.94 2.06-2.06.94zm-11 1L8.5 8.5l.94-2.06 2.06-.94-2.06-.94L8.5 2.5l-.94 2.06-2.06.94zm10 10l.94 2.06.94-2.06 2.06-.94-2.06-.94-.94-2.06-.94 2.06-2.06.94z\"/><path d=\"M17.41 7.96l-1.37-1.37c-.4-.4-.92-.59-1.43-.59-.52 0-1.04.2-1.43.59L10.3 9.45l-7.72 7.72c-.78.78-.78 2.05 0 2.83L4 21.41c.39.39.9.59 1.41.59.51 0 1.02-.2 1.41-.59l7.78-7.78 2.81-2.81c.8-.78.8-2.07 0-2.86zM5.41 20L4 18.59l7.72-7.72 1.47 1.35L5.41 20z\"/>\n",
              "  </svg>\n",
              "      </button>\n",
              "      \n",
              "  <style>\n",
              "    .colab-df-container {\n",
              "      display:flex;\n",
              "      flex-wrap:wrap;\n",
              "      gap: 12px;\n",
              "    }\n",
              "\n",
              "    .colab-df-convert {\n",
              "      background-color: #E8F0FE;\n",
              "      border: none;\n",
              "      border-radius: 50%;\n",
              "      cursor: pointer;\n",
              "      display: none;\n",
              "      fill: #1967D2;\n",
              "      height: 32px;\n",
              "      padding: 0 0 0 0;\n",
              "      width: 32px;\n",
              "    }\n",
              "\n",
              "    .colab-df-convert:hover {\n",
              "      background-color: #E2EBFA;\n",
              "      box-shadow: 0px 1px 2px rgba(60, 64, 67, 0.3), 0px 1px 3px 1px rgba(60, 64, 67, 0.15);\n",
              "      fill: #174EA6;\n",
              "    }\n",
              "\n",
              "    [theme=dark] .colab-df-convert {\n",
              "      background-color: #3B4455;\n",
              "      fill: #D2E3FC;\n",
              "    }\n",
              "\n",
              "    [theme=dark] .colab-df-convert:hover {\n",
              "      background-color: #434B5C;\n",
              "      box-shadow: 0px 1px 3px 1px rgba(0, 0, 0, 0.15);\n",
              "      filter: drop-shadow(0px 1px 2px rgba(0, 0, 0, 0.3));\n",
              "      fill: #FFFFFF;\n",
              "    }\n",
              "  </style>\n",
              "\n",
              "      <script>\n",
              "        const buttonEl =\n",
              "          document.querySelector('#df-97e33029-da80-45b8-9076-78b3892144f0 button.colab-df-convert');\n",
              "        buttonEl.style.display =\n",
              "          google.colab.kernel.accessAllowed ? 'block' : 'none';\n",
              "\n",
              "        async function convertToInteractive(key) {\n",
              "          const element = document.querySelector('#df-97e33029-da80-45b8-9076-78b3892144f0');\n",
              "          const dataTable =\n",
              "            await google.colab.kernel.invokeFunction('convertToInteractive',\n",
              "                                                     [key], {});\n",
              "          if (!dataTable) return;\n",
              "\n",
              "          const docLinkHtml = 'Like what you see? Visit the ' +\n",
              "            '<a target=\"_blank\" href=https://colab.research.google.com/notebooks/data_table.ipynb>data table notebook</a>'\n",
              "            + ' to learn more about interactive tables.';\n",
              "          element.innerHTML = '';\n",
              "          dataTable['output_type'] = 'display_data';\n",
              "          await google.colab.output.renderOutput(dataTable, element);\n",
              "          const docLink = document.createElement('div');\n",
              "          docLink.innerHTML = docLinkHtml;\n",
              "          element.appendChild(docLink);\n",
              "        }\n",
              "      </script>\n",
              "    </div>\n",
              "  </div>\n",
              "  "
            ]
          },
          "metadata": {},
          "execution_count": 4
        }
      ],
      "source": [
        "data.head()"
      ]
    },
    {
      "cell_type": "code",
      "execution_count": null,
      "id": "5331408b",
      "metadata": {
        "colab": {
          "base_uri": "https://localhost:8080/"
        },
        "id": "5331408b",
        "outputId": "8cc8ed59-9456-41c5-85f6-188b7488af89"
      },
      "outputs": [
        {
          "output_type": "stream",
          "name": "stdout",
          "text": [
            "29\n"
          ]
        }
      ],
      "source": [
        "print(len(data.columns))"
      ]
    },
    {
      "cell_type": "markdown",
      "id": "aaa6cbfa",
      "metadata": {
        "id": "aaa6cbfa"
      },
      "source": [
        "## Meaning of Columns\n",
        "\n",
        "1. Rndrng_NPI: National Provider Identifier (NPI) of the rendering provider\n",
        "2. Rndrng_Prvdr_Last_Org_Name: Last (family) name of the rendering provider\n",
        "3. Rndrng_Prvdr_First_Name: First name of the rendering provider\n",
        "4. Rndrng_Prvdr_MI: Middle initial of the rendering provider\n",
        "5. Rndrng_Prvdr_Crdntls: Credentials of the rendering provider (e.g., MD, DO, NP)\n",
        "6. Rndrng_Prvdr_Gndr: Gender of the rendering provider\n",
        "7. Rndrng_Prvdr_Ent_Cd: Entity code of the rendering provider (e.g., 1 for individual, 2 for group)\n",
        "8. Rndrng_Prvdr_St1: Street address of the rendering provider\n",
        "9. Rndrng_Prvdr_St2: Second line of the street address of the rendering provider\n",
        "10. Rndrng_Prvdr_City: City of the rendering provider\n",
        "11. Rndrng_Prvdr_State_Abrvtn: State abbreviation of the rendering provider\n",
        "12. Rndrng_Prvdr_State_FIPS: Federal Inf ormation Processing Standards (FIPS) code for the state of the rendering provider\n",
        "13. Rndrng_Prvdr_Zip5: Five-digit ZIP code of the rendering provider\n",
        "14. HCPCS_Cd: Healthcare Common Procedure Coding System (HCPCS) code for the service provided\n",
        "15. HCPCS_Desc: Description of the service provided\n",
        "16. Tot_Benes: Total number of beneficiaries who received the service\n",
        "17. Tot_Srvcs: Total number of services provided\n",
        "18. Avg_Sbmtd_Chrg: Average submitted charge for the service\n",
        "19. Avg_Mdcr_Alowd_Amt: Average Medicare allowed amount for the service\n",
        "20. Avg_Mdcr_Pymt_Amt: Average Medicare payment amount for the service\n",
        "21. Avg_Mdcr_Stdzd_Amt: Average Medicare standardized amount for the service."
      ]
    },
    {
      "cell_type": "code",
      "execution_count": null,
      "id": "25b5357b",
      "metadata": {
        "id": "25b5357b",
        "outputId": "50a4cae3-ff25-4179-ecb8-3c919739d99a",
        "colab": {
          "base_uri": "https://localhost:8080/",
          "height": 364
        }
      },
      "outputs": [
        {
          "output_type": "execute_result",
          "data": {
            "text/plain": [
              "         Rndrng_NPI  Rndrng_Prvdr_State_FIPS  Rndrng_Prvdr_Zip5  \\\n",
              "count  2.874400e+04             28739.000000       28744.000000   \n",
              "mean   1.503159e+09                27.257559       49948.395248   \n",
              "std    2.915371e+08                15.801272       28628.110914   \n",
              "min    1.003000e+09                 1.000000         623.000000   \n",
              "25%    1.245596e+09                12.000000       28352.000000   \n",
              "50%    1.508158e+09                26.000000       46307.000000   \n",
              "75%    1.760419e+09                41.000000       76302.750000   \n",
              "max    1.993000e+09                78.000000       99801.000000   \n",
              "\n",
              "       Rndrng_Prvdr_RUCA      HCPCS_Cd     Tot_Benes     Tot_Srvcs  \\\n",
              "count       28739.000000  28744.000000  28744.000000  28744.000000   \n",
              "mean            1.350325  63447.378444     56.559595     89.750800   \n",
              "std             2.642202   1079.478173     68.832931    127.622432   \n",
              "min             1.000000  62321.000000     11.000000     11.000000   \n",
              "25%             1.000000  62323.000000     19.000000     25.000000   \n",
              "50%             1.000000  64479.000000     33.000000     47.000000   \n",
              "75%             1.000000  64483.000000     66.250000    100.000000   \n",
              "max            99.000000  64484.000000   2058.000000   3503.000000   \n",
              "\n",
              "       Tot_Bene_Day_Srvcs  Avg_Sbmtd_Chrg  Avg_Mdcr_Alowd_Amt  \\\n",
              "count        28744.000000    28744.000000        28744.000000   \n",
              "mean            86.135263     1174.422855          172.693715   \n",
              "std            115.883433     1429.698872           92.384283   \n",
              "min             11.000000       51.940000           40.074074   \n",
              "25%             25.000000      465.000000          100.499687   \n",
              "50%             46.000000      744.600707          127.119669   \n",
              "75%             98.000000     1333.597222          250.970853   \n",
              "max           3308.000000    44736.842105          557.835306   \n",
              "\n",
              "       Avg_Mdcr_Pymt_Amt  Avg_Mdcr_Stdzd_Amt  \n",
              "count       28744.000000        28744.000000  \n",
              "mean          134.297568          135.275924  \n",
              "std            72.395950           71.572689  \n",
              "min            14.048824           15.642353  \n",
              "25%            78.070000           79.353324  \n",
              "50%            98.887059           98.961469  \n",
              "75%           195.095386          198.771537  \n",
              "max           438.624324          397.541594  "
            ],
            "text/html": [
              "\n",
              "  <div id=\"df-a46d55fe-eaf8-4e15-99d6-2620c99cb12e\">\n",
              "    <div class=\"colab-df-container\">\n",
              "      <div>\n",
              "<style scoped>\n",
              "    .dataframe tbody tr th:only-of-type {\n",
              "        vertical-align: middle;\n",
              "    }\n",
              "\n",
              "    .dataframe tbody tr th {\n",
              "        vertical-align: top;\n",
              "    }\n",
              "\n",
              "    .dataframe thead th {\n",
              "        text-align: right;\n",
              "    }\n",
              "</style>\n",
              "<table border=\"1\" class=\"dataframe\">\n",
              "  <thead>\n",
              "    <tr style=\"text-align: right;\">\n",
              "      <th></th>\n",
              "      <th>Rndrng_NPI</th>\n",
              "      <th>Rndrng_Prvdr_State_FIPS</th>\n",
              "      <th>Rndrng_Prvdr_Zip5</th>\n",
              "      <th>Rndrng_Prvdr_RUCA</th>\n",
              "      <th>HCPCS_Cd</th>\n",
              "      <th>Tot_Benes</th>\n",
              "      <th>Tot_Srvcs</th>\n",
              "      <th>Tot_Bene_Day_Srvcs</th>\n",
              "      <th>Avg_Sbmtd_Chrg</th>\n",
              "      <th>Avg_Mdcr_Alowd_Amt</th>\n",
              "      <th>Avg_Mdcr_Pymt_Amt</th>\n",
              "      <th>Avg_Mdcr_Stdzd_Amt</th>\n",
              "    </tr>\n",
              "  </thead>\n",
              "  <tbody>\n",
              "    <tr>\n",
              "      <th>count</th>\n",
              "      <td>2.874400e+04</td>\n",
              "      <td>28739.000000</td>\n",
              "      <td>28744.000000</td>\n",
              "      <td>28739.000000</td>\n",
              "      <td>28744.000000</td>\n",
              "      <td>28744.000000</td>\n",
              "      <td>28744.000000</td>\n",
              "      <td>28744.000000</td>\n",
              "      <td>28744.000000</td>\n",
              "      <td>28744.000000</td>\n",
              "      <td>28744.000000</td>\n",
              "      <td>28744.000000</td>\n",
              "    </tr>\n",
              "    <tr>\n",
              "      <th>mean</th>\n",
              "      <td>1.503159e+09</td>\n",
              "      <td>27.257559</td>\n",
              "      <td>49948.395248</td>\n",
              "      <td>1.350325</td>\n",
              "      <td>63447.378444</td>\n",
              "      <td>56.559595</td>\n",
              "      <td>89.750800</td>\n",
              "      <td>86.135263</td>\n",
              "      <td>1174.422855</td>\n",
              "      <td>172.693715</td>\n",
              "      <td>134.297568</td>\n",
              "      <td>135.275924</td>\n",
              "    </tr>\n",
              "    <tr>\n",
              "      <th>std</th>\n",
              "      <td>2.915371e+08</td>\n",
              "      <td>15.801272</td>\n",
              "      <td>28628.110914</td>\n",
              "      <td>2.642202</td>\n",
              "      <td>1079.478173</td>\n",
              "      <td>68.832931</td>\n",
              "      <td>127.622432</td>\n",
              "      <td>115.883433</td>\n",
              "      <td>1429.698872</td>\n",
              "      <td>92.384283</td>\n",
              "      <td>72.395950</td>\n",
              "      <td>71.572689</td>\n",
              "    </tr>\n",
              "    <tr>\n",
              "      <th>min</th>\n",
              "      <td>1.003000e+09</td>\n",
              "      <td>1.000000</td>\n",
              "      <td>623.000000</td>\n",
              "      <td>1.000000</td>\n",
              "      <td>62321.000000</td>\n",
              "      <td>11.000000</td>\n",
              "      <td>11.000000</td>\n",
              "      <td>11.000000</td>\n",
              "      <td>51.940000</td>\n",
              "      <td>40.074074</td>\n",
              "      <td>14.048824</td>\n",
              "      <td>15.642353</td>\n",
              "    </tr>\n",
              "    <tr>\n",
              "      <th>25%</th>\n",
              "      <td>1.245596e+09</td>\n",
              "      <td>12.000000</td>\n",
              "      <td>28352.000000</td>\n",
              "      <td>1.000000</td>\n",
              "      <td>62323.000000</td>\n",
              "      <td>19.000000</td>\n",
              "      <td>25.000000</td>\n",
              "      <td>25.000000</td>\n",
              "      <td>465.000000</td>\n",
              "      <td>100.499687</td>\n",
              "      <td>78.070000</td>\n",
              "      <td>79.353324</td>\n",
              "    </tr>\n",
              "    <tr>\n",
              "      <th>50%</th>\n",
              "      <td>1.508158e+09</td>\n",
              "      <td>26.000000</td>\n",
              "      <td>46307.000000</td>\n",
              "      <td>1.000000</td>\n",
              "      <td>64479.000000</td>\n",
              "      <td>33.000000</td>\n",
              "      <td>47.000000</td>\n",
              "      <td>46.000000</td>\n",
              "      <td>744.600707</td>\n",
              "      <td>127.119669</td>\n",
              "      <td>98.887059</td>\n",
              "      <td>98.961469</td>\n",
              "    </tr>\n",
              "    <tr>\n",
              "      <th>75%</th>\n",
              "      <td>1.760419e+09</td>\n",
              "      <td>41.000000</td>\n",
              "      <td>76302.750000</td>\n",
              "      <td>1.000000</td>\n",
              "      <td>64483.000000</td>\n",
              "      <td>66.250000</td>\n",
              "      <td>100.000000</td>\n",
              "      <td>98.000000</td>\n",
              "      <td>1333.597222</td>\n",
              "      <td>250.970853</td>\n",
              "      <td>195.095386</td>\n",
              "      <td>198.771537</td>\n",
              "    </tr>\n",
              "    <tr>\n",
              "      <th>max</th>\n",
              "      <td>1.993000e+09</td>\n",
              "      <td>78.000000</td>\n",
              "      <td>99801.000000</td>\n",
              "      <td>99.000000</td>\n",
              "      <td>64484.000000</td>\n",
              "      <td>2058.000000</td>\n",
              "      <td>3503.000000</td>\n",
              "      <td>3308.000000</td>\n",
              "      <td>44736.842105</td>\n",
              "      <td>557.835306</td>\n",
              "      <td>438.624324</td>\n",
              "      <td>397.541594</td>\n",
              "    </tr>\n",
              "  </tbody>\n",
              "</table>\n",
              "</div>\n",
              "      <button class=\"colab-df-convert\" onclick=\"convertToInteractive('df-a46d55fe-eaf8-4e15-99d6-2620c99cb12e')\"\n",
              "              title=\"Convert this dataframe to an interactive table.\"\n",
              "              style=\"display:none;\">\n",
              "        \n",
              "  <svg xmlns=\"http://www.w3.org/2000/svg\" height=\"24px\"viewBox=\"0 0 24 24\"\n",
              "       width=\"24px\">\n",
              "    <path d=\"M0 0h24v24H0V0z\" fill=\"none\"/>\n",
              "    <path d=\"M18.56 5.44l.94 2.06.94-2.06 2.06-.94-2.06-.94-.94-2.06-.94 2.06-2.06.94zm-11 1L8.5 8.5l.94-2.06 2.06-.94-2.06-.94L8.5 2.5l-.94 2.06-2.06.94zm10 10l.94 2.06.94-2.06 2.06-.94-2.06-.94-.94-2.06-.94 2.06-2.06.94z\"/><path d=\"M17.41 7.96l-1.37-1.37c-.4-.4-.92-.59-1.43-.59-.52 0-1.04.2-1.43.59L10.3 9.45l-7.72 7.72c-.78.78-.78 2.05 0 2.83L4 21.41c.39.39.9.59 1.41.59.51 0 1.02-.2 1.41-.59l7.78-7.78 2.81-2.81c.8-.78.8-2.07 0-2.86zM5.41 20L4 18.59l7.72-7.72 1.47 1.35L5.41 20z\"/>\n",
              "  </svg>\n",
              "      </button>\n",
              "      \n",
              "  <style>\n",
              "    .colab-df-container {\n",
              "      display:flex;\n",
              "      flex-wrap:wrap;\n",
              "      gap: 12px;\n",
              "    }\n",
              "\n",
              "    .colab-df-convert {\n",
              "      background-color: #E8F0FE;\n",
              "      border: none;\n",
              "      border-radius: 50%;\n",
              "      cursor: pointer;\n",
              "      display: none;\n",
              "      fill: #1967D2;\n",
              "      height: 32px;\n",
              "      padding: 0 0 0 0;\n",
              "      width: 32px;\n",
              "    }\n",
              "\n",
              "    .colab-df-convert:hover {\n",
              "      background-color: #E2EBFA;\n",
              "      box-shadow: 0px 1px 2px rgba(60, 64, 67, 0.3), 0px 1px 3px 1px rgba(60, 64, 67, 0.15);\n",
              "      fill: #174EA6;\n",
              "    }\n",
              "\n",
              "    [theme=dark] .colab-df-convert {\n",
              "      background-color: #3B4455;\n",
              "      fill: #D2E3FC;\n",
              "    }\n",
              "\n",
              "    [theme=dark] .colab-df-convert:hover {\n",
              "      background-color: #434B5C;\n",
              "      box-shadow: 0px 1px 3px 1px rgba(0, 0, 0, 0.15);\n",
              "      filter: drop-shadow(0px 1px 2px rgba(0, 0, 0, 0.3));\n",
              "      fill: #FFFFFF;\n",
              "    }\n",
              "  </style>\n",
              "\n",
              "      <script>\n",
              "        const buttonEl =\n",
              "          document.querySelector('#df-a46d55fe-eaf8-4e15-99d6-2620c99cb12e button.colab-df-convert');\n",
              "        buttonEl.style.display =\n",
              "          google.colab.kernel.accessAllowed ? 'block' : 'none';\n",
              "\n",
              "        async function convertToInteractive(key) {\n",
              "          const element = document.querySelector('#df-a46d55fe-eaf8-4e15-99d6-2620c99cb12e');\n",
              "          const dataTable =\n",
              "            await google.colab.kernel.invokeFunction('convertToInteractive',\n",
              "                                                     [key], {});\n",
              "          if (!dataTable) return;\n",
              "\n",
              "          const docLinkHtml = 'Like what you see? Visit the ' +\n",
              "            '<a target=\"_blank\" href=https://colab.research.google.com/notebooks/data_table.ipynb>data table notebook</a>'\n",
              "            + ' to learn more about interactive tables.';\n",
              "          element.innerHTML = '';\n",
              "          dataTable['output_type'] = 'display_data';\n",
              "          await google.colab.output.renderOutput(dataTable, element);\n",
              "          const docLink = document.createElement('div');\n",
              "          docLink.innerHTML = docLinkHtml;\n",
              "          element.appendChild(docLink);\n",
              "        }\n",
              "      </script>\n",
              "    </div>\n",
              "  </div>\n",
              "  "
            ]
          },
          "metadata": {},
          "execution_count": 6
        }
      ],
      "source": [
        "data.describe()"
      ]
    },
    {
      "cell_type": "code",
      "execution_count": null,
      "id": "8daa66c0",
      "metadata": {
        "id": "8daa66c0",
        "outputId": "90d42479-3bfe-4f50-8d6d-23af96412f1f",
        "colab": {
          "base_uri": "https://localhost:8080/"
        }
      },
      "outputs": [
        {
          "output_type": "execute_result",
          "data": {
            "text/plain": [
              "0        1003001363\n",
              "1        1003013335\n",
              "2        1003015843\n",
              "3        1003018748\n",
              "4        1003022500\n",
              "            ...    \n",
              "28739    1992966469\n",
              "28740    1992970859\n",
              "28741    1992970859\n",
              "28742    1992971055\n",
              "28743    1992980718\n",
              "Name: Rndrng_NPI, Length: 28744, dtype: int64"
            ]
          },
          "metadata": {},
          "execution_count": 7
        }
      ],
      "source": [
        "data[\"Rndrng_NPI\"]"
      ]
    },
    {
      "cell_type": "code",
      "execution_count": null,
      "id": "45120175",
      "metadata": {
        "id": "45120175",
        "outputId": "f2ba40ef-24cb-4b1c-de6a-64a38090f465",
        "colab": {
          "base_uri": "https://localhost:8080/"
        }
      },
      "outputs": [
        {
          "output_type": "execute_result",
          "data": {
            "text/plain": [
              "Index(['Rndrng_NPI', 'Rndrng_Prvdr_Last_Org_Name', 'Rndrng_Prvdr_First_Name',\n",
              "       'Rndrng_Prvdr_MI', 'Rndrng_Prvdr_Crdntls', 'Rndrng_Prvdr_Gndr',\n",
              "       'Rndrng_Prvdr_Ent_Cd', 'Rndrng_Prvdr_St1', 'Rndrng_Prvdr_St2',\n",
              "       'Rndrng_Prvdr_City', 'Rndrng_Prvdr_State_Abrvtn',\n",
              "       'Rndrng_Prvdr_State_FIPS', 'Rndrng_Prvdr_Zip5', 'Rndrng_Prvdr_RUCA',\n",
              "       'Rndrng_Prvdr_RUCA_Desc', 'Rndrng_Prvdr_Cntry', 'Rndrng_Prvdr_Type',\n",
              "       'Rndrng_Prvdr_Mdcr_Prtcptg_Ind', 'HCPCS_Cd', 'HCPCS_Desc',\n",
              "       'HCPCS_Drug_Ind', 'Place_Of_Srvc', 'Tot_Benes', 'Tot_Srvcs',\n",
              "       'Tot_Bene_Day_Srvcs', 'Avg_Sbmtd_Chrg', 'Avg_Mdcr_Alowd_Amt',\n",
              "       'Avg_Mdcr_Pymt_Amt', 'Avg_Mdcr_Stdzd_Amt'],\n",
              "      dtype='object')"
            ]
          },
          "metadata": {},
          "execution_count": 8
        }
      ],
      "source": [
        "data.columns"
      ]
    },
    {
      "cell_type": "code",
      "execution_count": null,
      "id": "bc778c2b",
      "metadata": {
        "id": "bc778c2b",
        "outputId": "37736b57-d8f1-40dc-ec82-9895c8ef81ab",
        "colab": {
          "base_uri": "https://localhost:8080/",
          "height": 240
        }
      },
      "outputs": [
        {
          "output_type": "error",
          "ename": "NameError",
          "evalue": "ignored",
          "traceback": [
            "\u001b[0;31m---------------------------------------------------------------------------\u001b[0m",
            "\u001b[0;31mNameError\u001b[0m                                 Traceback (most recent call last)",
            "\u001b[0;32m<ipython-input-7-051fdabeaae3>\u001b[0m in \u001b[0;36m<module>\u001b[0;34m\u001b[0m\n\u001b[1;32m      5\u001b[0m \u001b[0;31m# Filter the data based on the relevant HCPCS codes\u001b[0m\u001b[0;34m\u001b[0m\u001b[0;34m\u001b[0m\u001b[0m\n\u001b[1;32m      6\u001b[0m \u001b[0mrelevant_hcpcs_codes\u001b[0m \u001b[0;34m=\u001b[0m \u001b[0;34m[\u001b[0m\u001b[0;36m62323\u001b[0m\u001b[0;34m,\u001b[0m \u001b[0;36m64483\u001b[0m\u001b[0;34m,\u001b[0m \u001b[0;36m64484\u001b[0m\u001b[0;34m,\u001b[0m \u001b[0;36m62321\u001b[0m\u001b[0;34m,\u001b[0m \u001b[0;36m64479\u001b[0m\u001b[0;34m,\u001b[0m \u001b[0;36m64480\u001b[0m\u001b[0;34m]\u001b[0m  \u001b[0;31m# Replace with the actual codes\u001b[0m\u001b[0;34m\u001b[0m\u001b[0;34m\u001b[0m\u001b[0m\n\u001b[0;32m----> 7\u001b[0;31m \u001b[0mfiltered_data\u001b[0m \u001b[0;34m=\u001b[0m \u001b[0mdata\u001b[0m\u001b[0;34m[\u001b[0m\u001b[0mdata\u001b[0m\u001b[0;34m[\u001b[0m\u001b[0;34m'HCPCS_Cd'\u001b[0m\u001b[0;34m]\u001b[0m\u001b[0;34m.\u001b[0m\u001b[0misin\u001b[0m\u001b[0;34m(\u001b[0m\u001b[0mrelevant_hcpcs_codes\u001b[0m\u001b[0;34m)\u001b[0m\u001b[0;34m]\u001b[0m\u001b[0;34m\u001b[0m\u001b[0;34m\u001b[0m\u001b[0m\n\u001b[0m\u001b[1;32m      8\u001b[0m \u001b[0;34m\u001b[0m\u001b[0m\n\u001b[1;32m      9\u001b[0m \u001b[0;31m# Calculate the number of physicians and ESI patients\u001b[0m\u001b[0;34m\u001b[0m\u001b[0;34m\u001b[0m\u001b[0m\n",
            "\u001b[0;31mNameError\u001b[0m: name 'data' is not defined"
          ]
        }
      ],
      "source": [
        "import pandas as pd\n",
        "\n",
        "# Load the data\n",
        "\n",
        "# Filter the data based on the relevant HCPCS codes\n",
        "relevant_hcpcs_codes = [62323, 64483, 64484, 62321, 64479, 64480]  # Replace with the actual codes\n",
        "filtered_data = data[data['HCPCS_Cd'].isin(relevant_hcpcs_codes)]\n",
        "\n",
        "# Calculate the number of physicians and ESI patients\n",
        "num_physicians = filtered_data['Rndrng_NPI'].nunique()\n",
        "total_patients = filtered_data['Tot_Benes'].sum()\n",
        "\n",
        "print(f\"Number of physicians: {num_physicians}\")\n",
        "print(f\"Number of ESI patients: {total_patients}\")\n",
        "\n",
        "# # Distribution of physicians by the number of ESI patients treated\n",
        "# physician_patient_counts = filtered_data.groupby('Rndrng_NPI')['Tot_Benes'].sum().reset_index()\n",
        "# physician_distribution = physician_patient_counts['Tot_Benes'].value_counts().sort_index()\n",
        "\n",
        "\n",
        "# Distribution of physicians by the number of ESI patients treated\n",
        "patient_counts = filtered_data.groupby('Rndrng_NPI')['Tot_Benes'].sum()\n",
        "patient_counts.hist(bins=20)\n",
        "\n",
        "print(\"\\nDistribution of physicians by the number of ESI patients treated:\", patient_counts)\n",
        "# print(physician_distribution)\n",
        "\n",
        "# Geographic distribution of physicians\n",
        "geographic_distribution = filtered_data.groupby('Rndrng_Prvdr_State_Abrvtn')['Rndrng_NPI'].nunique()\n",
        "\n",
        "print(\"\\nPhysicians distribution by state:\")\n",
        "print(geographic_distribution)\n",
        "\n",
        "# Key physician specialties\n",
        "specialty_counts = filtered_data.groupby('Rndrng_Prvdr_Type')['Rndrng_NPI'].nunique().sort_values(ascending=False)\n",
        "\n",
        "print(\"\\nKey physician specialties:\")\n",
        "print(specialty_counts)\n"
      ]
    },
    {
      "cell_type": "code",
      "source": [
        "import plotly.express as px\n",
        "\n",
        "# Create a dictionary mapping state codes to counts\n",
        "data_dict = {'AK': 33, 'AL': 183, 'AR': 121, 'AZ': 257, 'CA': 988, 'CO': 200, 'CT': 122, 'DC': 21, 'DE': 40, 'FL': 869,\n",
        "             'GA': 456, 'GU': 2, 'HI': 17, 'IA': 112, 'ID': 73, 'IL': 390, 'IN': 255, 'KS': 153, 'KY': 152, 'LA': 189,\n",
        "             'MA': 242, 'MD': 279, 'ME': 29, 'MI': 333, 'MN': 231, 'MO': 214, 'MS': 95, 'MT': 53, 'NC': 322, 'ND': 35,\n",
        "             'NE': 79, 'NH': 65, 'NJ': 392, 'NM': 56, 'NV': 114, 'NY': 533, 'OH': 388, 'OK': 127, 'OR': 118, 'PA': 443,\n",
        "             'PR': 14, 'RI': 23, 'SC': 158, 'SD': 42, 'TN': 230, 'TX': 844, 'UT': 111, 'VA': 248, 'VI': 2, 'VT': 18,\n",
        "             'WA': 218, 'WI': 225, 'WV': 36, 'WY': 33}\n",
        "\n",
        "# Convert the dictionary to a DataFrame\n",
        "df = pd.DataFrame.from_dict(data_dict, orient='index', columns=['count']).reset_index().rename(columns={'index': 'state'})\n",
        "\n",
        "# Create a US map plot\n",
        "fig = px.choropleth(df, locations='state', locationmode='USA-states', color='count', scope='usa',\n",
        "                    color_continuous_scale='Blues', title='Physician counts by state')\n",
        "fig.show()\n"
      ],
      "metadata": {
        "colab": {
          "base_uri": "https://localhost:8080/",
          "height": 542
        },
        "id": "2ORMRU4kW5sk",
        "outputId": "3c29ba73-8c45-42d3-dbf3-0a3c32347e30"
      },
      "id": "2ORMRU4kW5sk",
      "execution_count": null,
      "outputs": [
        {
          "output_type": "display_data",
          "data": {
            "text/html": [
              "<html>\n",
              "<head><meta charset=\"utf-8\" /></head>\n",
              "<body>\n",
              "    <div>            <script src=\"https://cdnjs.cloudflare.com/ajax/libs/mathjax/2.7.5/MathJax.js?config=TeX-AMS-MML_SVG\"></script><script type=\"text/javascript\">if (window.MathJax && window.MathJax.Hub && window.MathJax.Hub.Config) {window.MathJax.Hub.Config({SVG: {font: \"STIX-Web\"}});}</script>                <script type=\"text/javascript\">window.PlotlyConfig = {MathJaxConfig: 'local'};</script>\n",
              "        <script src=\"https://cdn.plot.ly/plotly-2.18.2.min.js\"></script>                <div id=\"cf308c94-6dd4-459f-bda5-b017f7391d8c\" class=\"plotly-graph-div\" style=\"height:525px; width:100%;\"></div>            <script type=\"text/javascript\">                                    window.PLOTLYENV=window.PLOTLYENV || {};                                    if (document.getElementById(\"cf308c94-6dd4-459f-bda5-b017f7391d8c\")) {                    Plotly.newPlot(                        \"cf308c94-6dd4-459f-bda5-b017f7391d8c\",                        [{\"coloraxis\":\"coloraxis\",\"geo\":\"geo\",\"hovertemplate\":\"state=%{location}<br>count=%{z}<extra></extra>\",\"locationmode\":\"USA-states\",\"locations\":[\"AK\",\"AL\",\"AR\",\"AZ\",\"CA\",\"CO\",\"CT\",\"DC\",\"DE\",\"FL\",\"GA\",\"GU\",\"HI\",\"IA\",\"ID\",\"IL\",\"IN\",\"KS\",\"KY\",\"LA\",\"MA\",\"MD\",\"ME\",\"MI\",\"MN\",\"MO\",\"MS\",\"MT\",\"NC\",\"ND\",\"NE\",\"NH\",\"NJ\",\"NM\",\"NV\",\"NY\",\"OH\",\"OK\",\"OR\",\"PA\",\"PR\",\"RI\",\"SC\",\"SD\",\"TN\",\"TX\",\"UT\",\"VA\",\"VI\",\"VT\",\"WA\",\"WI\",\"WV\",\"WY\"],\"name\":\"\",\"z\":[33,183,121,257,988,200,122,21,40,869,456,2,17,112,73,390,255,153,152,189,242,279,29,333,231,214,95,53,322,35,79,65,392,56,114,533,388,127,118,443,14,23,158,42,230,844,111,248,2,18,218,225,36,33],\"type\":\"choropleth\"}],                        {\"template\":{\"data\":{\"histogram2dcontour\":[{\"type\":\"histogram2dcontour\",\"colorbar\":{\"outlinewidth\":0,\"ticks\":\"\"},\"colorscale\":[[0.0,\"#0d0887\"],[0.1111111111111111,\"#46039f\"],[0.2222222222222222,\"#7201a8\"],[0.3333333333333333,\"#9c179e\"],[0.4444444444444444,\"#bd3786\"],[0.5555555555555556,\"#d8576b\"],[0.6666666666666666,\"#ed7953\"],[0.7777777777777778,\"#fb9f3a\"],[0.8888888888888888,\"#fdca26\"],[1.0,\"#f0f921\"]]}],\"choropleth\":[{\"type\":\"choropleth\",\"colorbar\":{\"outlinewidth\":0,\"ticks\":\"\"}}],\"histogram2d\":[{\"type\":\"histogram2d\",\"colorbar\":{\"outlinewidth\":0,\"ticks\":\"\"},\"colorscale\":[[0.0,\"#0d0887\"],[0.1111111111111111,\"#46039f\"],[0.2222222222222222,\"#7201a8\"],[0.3333333333333333,\"#9c179e\"],[0.4444444444444444,\"#bd3786\"],[0.5555555555555556,\"#d8576b\"],[0.6666666666666666,\"#ed7953\"],[0.7777777777777778,\"#fb9f3a\"],[0.8888888888888888,\"#fdca26\"],[1.0,\"#f0f921\"]]}],\"heatmap\":[{\"type\":\"heatmap\",\"colorbar\":{\"outlinewidth\":0,\"ticks\":\"\"},\"colorscale\":[[0.0,\"#0d0887\"],[0.1111111111111111,\"#46039f\"],[0.2222222222222222,\"#7201a8\"],[0.3333333333333333,\"#9c179e\"],[0.4444444444444444,\"#bd3786\"],[0.5555555555555556,\"#d8576b\"],[0.6666666666666666,\"#ed7953\"],[0.7777777777777778,\"#fb9f3a\"],[0.8888888888888888,\"#fdca26\"],[1.0,\"#f0f921\"]]}],\"heatmapgl\":[{\"type\":\"heatmapgl\",\"colorbar\":{\"outlinewidth\":0,\"ticks\":\"\"},\"colorscale\":[[0.0,\"#0d0887\"],[0.1111111111111111,\"#46039f\"],[0.2222222222222222,\"#7201a8\"],[0.3333333333333333,\"#9c179e\"],[0.4444444444444444,\"#bd3786\"],[0.5555555555555556,\"#d8576b\"],[0.6666666666666666,\"#ed7953\"],[0.7777777777777778,\"#fb9f3a\"],[0.8888888888888888,\"#fdca26\"],[1.0,\"#f0f921\"]]}],\"contourcarpet\":[{\"type\":\"contourcarpet\",\"colorbar\":{\"outlinewidth\":0,\"ticks\":\"\"}}],\"contour\":[{\"type\":\"contour\",\"colorbar\":{\"outlinewidth\":0,\"ticks\":\"\"},\"colorscale\":[[0.0,\"#0d0887\"],[0.1111111111111111,\"#46039f\"],[0.2222222222222222,\"#7201a8\"],[0.3333333333333333,\"#9c179e\"],[0.4444444444444444,\"#bd3786\"],[0.5555555555555556,\"#d8576b\"],[0.6666666666666666,\"#ed7953\"],[0.7777777777777778,\"#fb9f3a\"],[0.8888888888888888,\"#fdca26\"],[1.0,\"#f0f921\"]]}],\"surface\":[{\"type\":\"surface\",\"colorbar\":{\"outlinewidth\":0,\"ticks\":\"\"},\"colorscale\":[[0.0,\"#0d0887\"],[0.1111111111111111,\"#46039f\"],[0.2222222222222222,\"#7201a8\"],[0.3333333333333333,\"#9c179e\"],[0.4444444444444444,\"#bd3786\"],[0.5555555555555556,\"#d8576b\"],[0.6666666666666666,\"#ed7953\"],[0.7777777777777778,\"#fb9f3a\"],[0.8888888888888888,\"#fdca26\"],[1.0,\"#f0f921\"]]}],\"mesh3d\":[{\"type\":\"mesh3d\",\"colorbar\":{\"outlinewidth\":0,\"ticks\":\"\"}}],\"scatter\":[{\"fillpattern\":{\"fillmode\":\"overlay\",\"size\":10,\"solidity\":0.2},\"type\":\"scatter\"}],\"parcoords\":[{\"type\":\"parcoords\",\"line\":{\"colorbar\":{\"outlinewidth\":0,\"ticks\":\"\"}}}],\"scatterpolargl\":[{\"type\":\"scatterpolargl\",\"marker\":{\"colorbar\":{\"outlinewidth\":0,\"ticks\":\"\"}}}],\"bar\":[{\"error_x\":{\"color\":\"#2a3f5f\"},\"error_y\":{\"color\":\"#2a3f5f\"},\"marker\":{\"line\":{\"color\":\"#E5ECF6\",\"width\":0.5},\"pattern\":{\"fillmode\":\"overlay\",\"size\":10,\"solidity\":0.2}},\"type\":\"bar\"}],\"scattergeo\":[{\"type\":\"scattergeo\",\"marker\":{\"colorbar\":{\"outlinewidth\":0,\"ticks\":\"\"}}}],\"scatterpolar\":[{\"type\":\"scatterpolar\",\"marker\":{\"colorbar\":{\"outlinewidth\":0,\"ticks\":\"\"}}}],\"histogram\":[{\"marker\":{\"pattern\":{\"fillmode\":\"overlay\",\"size\":10,\"solidity\":0.2}},\"type\":\"histogram\"}],\"scattergl\":[{\"type\":\"scattergl\",\"marker\":{\"colorbar\":{\"outlinewidth\":0,\"ticks\":\"\"}}}],\"scatter3d\":[{\"type\":\"scatter3d\",\"line\":{\"colorbar\":{\"outlinewidth\":0,\"ticks\":\"\"}},\"marker\":{\"colorbar\":{\"outlinewidth\":0,\"ticks\":\"\"}}}],\"scattermapbox\":[{\"type\":\"scattermapbox\",\"marker\":{\"colorbar\":{\"outlinewidth\":0,\"ticks\":\"\"}}}],\"scatterternary\":[{\"type\":\"scatterternary\",\"marker\":{\"colorbar\":{\"outlinewidth\":0,\"ticks\":\"\"}}}],\"scattercarpet\":[{\"type\":\"scattercarpet\",\"marker\":{\"colorbar\":{\"outlinewidth\":0,\"ticks\":\"\"}}}],\"carpet\":[{\"aaxis\":{\"endlinecolor\":\"#2a3f5f\",\"gridcolor\":\"white\",\"linecolor\":\"white\",\"minorgridcolor\":\"white\",\"startlinecolor\":\"#2a3f5f\"},\"baxis\":{\"endlinecolor\":\"#2a3f5f\",\"gridcolor\":\"white\",\"linecolor\":\"white\",\"minorgridcolor\":\"white\",\"startlinecolor\":\"#2a3f5f\"},\"type\":\"carpet\"}],\"table\":[{\"cells\":{\"fill\":{\"color\":\"#EBF0F8\"},\"line\":{\"color\":\"white\"}},\"header\":{\"fill\":{\"color\":\"#C8D4E3\"},\"line\":{\"color\":\"white\"}},\"type\":\"table\"}],\"barpolar\":[{\"marker\":{\"line\":{\"color\":\"#E5ECF6\",\"width\":0.5},\"pattern\":{\"fillmode\":\"overlay\",\"size\":10,\"solidity\":0.2}},\"type\":\"barpolar\"}],\"pie\":[{\"automargin\":true,\"type\":\"pie\"}]},\"layout\":{\"autotypenumbers\":\"strict\",\"colorway\":[\"#636efa\",\"#EF553B\",\"#00cc96\",\"#ab63fa\",\"#FFA15A\",\"#19d3f3\",\"#FF6692\",\"#B6E880\",\"#FF97FF\",\"#FECB52\"],\"font\":{\"color\":\"#2a3f5f\"},\"hovermode\":\"closest\",\"hoverlabel\":{\"align\":\"left\"},\"paper_bgcolor\":\"white\",\"plot_bgcolor\":\"#E5ECF6\",\"polar\":{\"bgcolor\":\"#E5ECF6\",\"angularaxis\":{\"gridcolor\":\"white\",\"linecolor\":\"white\",\"ticks\":\"\"},\"radialaxis\":{\"gridcolor\":\"white\",\"linecolor\":\"white\",\"ticks\":\"\"}},\"ternary\":{\"bgcolor\":\"#E5ECF6\",\"aaxis\":{\"gridcolor\":\"white\",\"linecolor\":\"white\",\"ticks\":\"\"},\"baxis\":{\"gridcolor\":\"white\",\"linecolor\":\"white\",\"ticks\":\"\"},\"caxis\":{\"gridcolor\":\"white\",\"linecolor\":\"white\",\"ticks\":\"\"}},\"coloraxis\":{\"colorbar\":{\"outlinewidth\":0,\"ticks\":\"\"}},\"colorscale\":{\"sequential\":[[0.0,\"#0d0887\"],[0.1111111111111111,\"#46039f\"],[0.2222222222222222,\"#7201a8\"],[0.3333333333333333,\"#9c179e\"],[0.4444444444444444,\"#bd3786\"],[0.5555555555555556,\"#d8576b\"],[0.6666666666666666,\"#ed7953\"],[0.7777777777777778,\"#fb9f3a\"],[0.8888888888888888,\"#fdca26\"],[1.0,\"#f0f921\"]],\"sequentialminus\":[[0.0,\"#0d0887\"],[0.1111111111111111,\"#46039f\"],[0.2222222222222222,\"#7201a8\"],[0.3333333333333333,\"#9c179e\"],[0.4444444444444444,\"#bd3786\"],[0.5555555555555556,\"#d8576b\"],[0.6666666666666666,\"#ed7953\"],[0.7777777777777778,\"#fb9f3a\"],[0.8888888888888888,\"#fdca26\"],[1.0,\"#f0f921\"]],\"diverging\":[[0,\"#8e0152\"],[0.1,\"#c51b7d\"],[0.2,\"#de77ae\"],[0.3,\"#f1b6da\"],[0.4,\"#fde0ef\"],[0.5,\"#f7f7f7\"],[0.6,\"#e6f5d0\"],[0.7,\"#b8e186\"],[0.8,\"#7fbc41\"],[0.9,\"#4d9221\"],[1,\"#276419\"]]},\"xaxis\":{\"gridcolor\":\"white\",\"linecolor\":\"white\",\"ticks\":\"\",\"title\":{\"standoff\":15},\"zerolinecolor\":\"white\",\"automargin\":true,\"zerolinewidth\":2},\"yaxis\":{\"gridcolor\":\"white\",\"linecolor\":\"white\",\"ticks\":\"\",\"title\":{\"standoff\":15},\"zerolinecolor\":\"white\",\"automargin\":true,\"zerolinewidth\":2},\"scene\":{\"xaxis\":{\"backgroundcolor\":\"#E5ECF6\",\"gridcolor\":\"white\",\"linecolor\":\"white\",\"showbackground\":true,\"ticks\":\"\",\"zerolinecolor\":\"white\",\"gridwidth\":2},\"yaxis\":{\"backgroundcolor\":\"#E5ECF6\",\"gridcolor\":\"white\",\"linecolor\":\"white\",\"showbackground\":true,\"ticks\":\"\",\"zerolinecolor\":\"white\",\"gridwidth\":2},\"zaxis\":{\"backgroundcolor\":\"#E5ECF6\",\"gridcolor\":\"white\",\"linecolor\":\"white\",\"showbackground\":true,\"ticks\":\"\",\"zerolinecolor\":\"white\",\"gridwidth\":2}},\"shapedefaults\":{\"line\":{\"color\":\"#2a3f5f\"}},\"annotationdefaults\":{\"arrowcolor\":\"#2a3f5f\",\"arrowhead\":0,\"arrowwidth\":1},\"geo\":{\"bgcolor\":\"white\",\"landcolor\":\"#E5ECF6\",\"subunitcolor\":\"white\",\"showland\":true,\"showlakes\":true,\"lakecolor\":\"white\"},\"title\":{\"x\":0.05},\"mapbox\":{\"style\":\"light\"}}},\"geo\":{\"domain\":{\"x\":[0.0,1.0],\"y\":[0.0,1.0]},\"center\":{},\"scope\":\"usa\"},\"coloraxis\":{\"colorbar\":{\"title\":{\"text\":\"count\"}},\"colorscale\":[[0.0,\"rgb(247,251,255)\"],[0.125,\"rgb(222,235,247)\"],[0.25,\"rgb(198,219,239)\"],[0.375,\"rgb(158,202,225)\"],[0.5,\"rgb(107,174,214)\"],[0.625,\"rgb(66,146,198)\"],[0.75,\"rgb(33,113,181)\"],[0.875,\"rgb(8,81,156)\"],[1.0,\"rgb(8,48,107)\"]]},\"legend\":{\"tracegroupgap\":0},\"title\":{\"text\":\"Physician counts by state\"}},                        {\"responsive\": true}                    ).then(function(){\n",
              "                            \n",
              "var gd = document.getElementById('cf308c94-6dd4-459f-bda5-b017f7391d8c');\n",
              "var x = new MutationObserver(function (mutations, observer) {{\n",
              "        var display = window.getComputedStyle(gd).display;\n",
              "        if (!display || display === 'none') {{\n",
              "            console.log([gd, 'removed!']);\n",
              "            Plotly.purge(gd);\n",
              "            observer.disconnect();\n",
              "        }}\n",
              "}});\n",
              "\n",
              "// Listen for the removal of the full notebook cells\n",
              "var notebookContainer = gd.closest('#notebook-container');\n",
              "if (notebookContainer) {{\n",
              "    x.observe(notebookContainer, {childList: true});\n",
              "}}\n",
              "\n",
              "// Listen for the clearing of the current output cell\n",
              "var outputEl = gd.closest('.output');\n",
              "if (outputEl) {{\n",
              "    x.observe(outputEl, {childList: true});\n",
              "}}\n",
              "\n",
              "                        })                };                            </script>        </div>\n",
              "</body>\n",
              "</html>"
            ]
          },
          "metadata": {}
        }
      ]
    },
    {
      "cell_type": "code",
      "source": [
        "import plotly.graph_objs as go\n",
        "import plotly.express as px\n",
        "import pandas as pd\n",
        "import requests\n",
        "import json\n",
        "\n",
        "# Create a dictionary mapping state codes to counts\n",
        "data_dict = {'AK': 33, 'AL': 183, 'AR': 121, 'AZ': 257, 'CA': 988, 'CO': 200, 'CT': 122, 'DC': 21, 'DE': 40, 'FL': 869,\n",
        "             'GA': 456, 'GU': 2, 'HI': 17, 'IA': 112, 'ID': 73, 'IL': 390, 'IN': 255, 'KS': 153, 'KY': 152, 'LA': 189,\n",
        "             'MA': 242, 'MD': 279, 'ME': 29, 'MI': 333, 'MN': 231, 'MO': 214, 'MS': 95, 'MT': 53, 'NC': 322, 'ND': 35,\n",
        "             'NE': 79, 'NH': 65, 'NJ': 392, 'NM': 56, 'NV': 114, 'NY': 533, 'OH': 388, 'OK': 127, 'OR': 118, 'PA': 443,\n",
        "             'PR': 14, 'RI': 23, 'SC': 158, 'SD': 42, 'TN': 230, 'TX': 844, 'UT': 111, 'VA': 248, 'VI': 2, 'VT': 18,\n",
        "             'WA': 218, 'WI': 225, 'WV': 36, 'WY': 33}\n",
        "\n",
        "# Convert the dictionary to a DataFrame\n",
        "df = pd.DataFrame.from_dict(data_dict, orient='index', columns=['count']).reset_index().rename(columns={'index': 'state'})\n",
        "\n",
        "# Load state geojson data\n",
        "url = \"https://raw.githubusercontent.com/PublicaMundi/MappingAPI/master/data/geojson/us-states.json\"\n",
        "response = requests.get(url)\n",
        "states_geojson = json.loads(response.text)\n",
        "\n",
        "# Create a state abbreviation to state name mapping\n",
        "state_abbr_to_name = {}\n",
        "for feature in states_geojson[\"features\"]:\n",
        "    state_abbr_to_name[feature[\"id\"]] = feature[\"properties\"][\"name\"]\n",
        "\n",
        "# Add state name column to the DataFrame\n",
        "df[\"state_name\"] = df[\"state\"].map(state_abbr_to_name)\n",
        "\n",
        "# Create a US map plot\n",
        "fig = px.choropleth(df, locations='state', locationmode='USA-states', color='count', scope='usa',\n",
        "                    color_continuous_scale='Blues', title='Physician counts by state')\n",
        "\n",
        "# Add state abbreviations and counts as annotations\n",
        "for index, row in df.iterrows():\n",
        "    fig.add_annotation(\n",
        "        go.layout.Annotation(\n",
        "            text=f\"{row['state']}<br>{row['count']}\",\n",
        "            x=row['state_name'],\n",
        "            y=row['count'],\n",
        "            showarrow=False,\n",
        "            font=dict(size=10),\n",
        "            xref=\"x\",\n",
        "            yref=\"y\",\n",
        "            xanchor=\"center\",\n",
        "            yanchor=\"middle\"\n",
        "        )\n",
        "    )\n",
        "\n",
        "fig.show()\n"
      ],
      "metadata": {
        "colab": {
          "base_uri": "https://localhost:8080/",
          "height": 542
        },
        "id": "9UbahsW7qWoj",
        "outputId": "d8a22bb9-470c-48f7-94aa-33649972e7c7"
      },
      "id": "9UbahsW7qWoj",
      "execution_count": null,
      "outputs": [
        {
          "output_type": "display_data",
          "data": {
            "text/html": [
              "<html>\n",
              "<head><meta charset=\"utf-8\" /></head>\n",
              "<body>\n",
              "    <div>            <script src=\"https://cdnjs.cloudflare.com/ajax/libs/mathjax/2.7.5/MathJax.js?config=TeX-AMS-MML_SVG\"></script><script type=\"text/javascript\">if (window.MathJax && window.MathJax.Hub && window.MathJax.Hub.Config) {window.MathJax.Hub.Config({SVG: {font: \"STIX-Web\"}});}</script>                <script type=\"text/javascript\">window.PlotlyConfig = {MathJaxConfig: 'local'};</script>\n",
              "        <script src=\"https://cdn.plot.ly/plotly-2.18.2.min.js\"></script>                <div id=\"8c7fca6c-c278-4ba3-ab6f-072df54f0719\" class=\"plotly-graph-div\" style=\"height:525px; width:100%;\"></div>            <script type=\"text/javascript\">                                    window.PLOTLYENV=window.PLOTLYENV || {};                                    if (document.getElementById(\"8c7fca6c-c278-4ba3-ab6f-072df54f0719\")) {                    Plotly.newPlot(                        \"8c7fca6c-c278-4ba3-ab6f-072df54f0719\",                        [{\"coloraxis\":\"coloraxis\",\"geo\":\"geo\",\"hovertemplate\":\"state=%{location}<br>count=%{z}<extra></extra>\",\"locationmode\":\"USA-states\",\"locations\":[\"AK\",\"AL\",\"AR\",\"AZ\",\"CA\",\"CO\",\"CT\",\"DC\",\"DE\",\"FL\",\"GA\",\"GU\",\"HI\",\"IA\",\"ID\",\"IL\",\"IN\",\"KS\",\"KY\",\"LA\",\"MA\",\"MD\",\"ME\",\"MI\",\"MN\",\"MO\",\"MS\",\"MT\",\"NC\",\"ND\",\"NE\",\"NH\",\"NJ\",\"NM\",\"NV\",\"NY\",\"OH\",\"OK\",\"OR\",\"PA\",\"PR\",\"RI\",\"SC\",\"SD\",\"TN\",\"TX\",\"UT\",\"VA\",\"VI\",\"VT\",\"WA\",\"WI\",\"WV\",\"WY\"],\"name\":\"\",\"z\":[33,183,121,257,988,200,122,21,40,869,456,2,17,112,73,390,255,153,152,189,242,279,29,333,231,214,95,53,322,35,79,65,392,56,114,533,388,127,118,443,14,23,158,42,230,844,111,248,2,18,218,225,36,33],\"type\":\"choropleth\"}],                        {\"template\":{\"data\":{\"histogram2dcontour\":[{\"type\":\"histogram2dcontour\",\"colorbar\":{\"outlinewidth\":0,\"ticks\":\"\"},\"colorscale\":[[0.0,\"#0d0887\"],[0.1111111111111111,\"#46039f\"],[0.2222222222222222,\"#7201a8\"],[0.3333333333333333,\"#9c179e\"],[0.4444444444444444,\"#bd3786\"],[0.5555555555555556,\"#d8576b\"],[0.6666666666666666,\"#ed7953\"],[0.7777777777777778,\"#fb9f3a\"],[0.8888888888888888,\"#fdca26\"],[1.0,\"#f0f921\"]]}],\"choropleth\":[{\"type\":\"choropleth\",\"colorbar\":{\"outlinewidth\":0,\"ticks\":\"\"}}],\"histogram2d\":[{\"type\":\"histogram2d\",\"colorbar\":{\"outlinewidth\":0,\"ticks\":\"\"},\"colorscale\":[[0.0,\"#0d0887\"],[0.1111111111111111,\"#46039f\"],[0.2222222222222222,\"#7201a8\"],[0.3333333333333333,\"#9c179e\"],[0.4444444444444444,\"#bd3786\"],[0.5555555555555556,\"#d8576b\"],[0.6666666666666666,\"#ed7953\"],[0.7777777777777778,\"#fb9f3a\"],[0.8888888888888888,\"#fdca26\"],[1.0,\"#f0f921\"]]}],\"heatmap\":[{\"type\":\"heatmap\",\"colorbar\":{\"outlinewidth\":0,\"ticks\":\"\"},\"colorscale\":[[0.0,\"#0d0887\"],[0.1111111111111111,\"#46039f\"],[0.2222222222222222,\"#7201a8\"],[0.3333333333333333,\"#9c179e\"],[0.4444444444444444,\"#bd3786\"],[0.5555555555555556,\"#d8576b\"],[0.6666666666666666,\"#ed7953\"],[0.7777777777777778,\"#fb9f3a\"],[0.8888888888888888,\"#fdca26\"],[1.0,\"#f0f921\"]]}],\"heatmapgl\":[{\"type\":\"heatmapgl\",\"colorbar\":{\"outlinewidth\":0,\"ticks\":\"\"},\"colorscale\":[[0.0,\"#0d0887\"],[0.1111111111111111,\"#46039f\"],[0.2222222222222222,\"#7201a8\"],[0.3333333333333333,\"#9c179e\"],[0.4444444444444444,\"#bd3786\"],[0.5555555555555556,\"#d8576b\"],[0.6666666666666666,\"#ed7953\"],[0.7777777777777778,\"#fb9f3a\"],[0.8888888888888888,\"#fdca26\"],[1.0,\"#f0f921\"]]}],\"contourcarpet\":[{\"type\":\"contourcarpet\",\"colorbar\":{\"outlinewidth\":0,\"ticks\":\"\"}}],\"contour\":[{\"type\":\"contour\",\"colorbar\":{\"outlinewidth\":0,\"ticks\":\"\"},\"colorscale\":[[0.0,\"#0d0887\"],[0.1111111111111111,\"#46039f\"],[0.2222222222222222,\"#7201a8\"],[0.3333333333333333,\"#9c179e\"],[0.4444444444444444,\"#bd3786\"],[0.5555555555555556,\"#d8576b\"],[0.6666666666666666,\"#ed7953\"],[0.7777777777777778,\"#fb9f3a\"],[0.8888888888888888,\"#fdca26\"],[1.0,\"#f0f921\"]]}],\"surface\":[{\"type\":\"surface\",\"colorbar\":{\"outlinewidth\":0,\"ticks\":\"\"},\"colorscale\":[[0.0,\"#0d0887\"],[0.1111111111111111,\"#46039f\"],[0.2222222222222222,\"#7201a8\"],[0.3333333333333333,\"#9c179e\"],[0.4444444444444444,\"#bd3786\"],[0.5555555555555556,\"#d8576b\"],[0.6666666666666666,\"#ed7953\"],[0.7777777777777778,\"#fb9f3a\"],[0.8888888888888888,\"#fdca26\"],[1.0,\"#f0f921\"]]}],\"mesh3d\":[{\"type\":\"mesh3d\",\"colorbar\":{\"outlinewidth\":0,\"ticks\":\"\"}}],\"scatter\":[{\"fillpattern\":{\"fillmode\":\"overlay\",\"size\":10,\"solidity\":0.2},\"type\":\"scatter\"}],\"parcoords\":[{\"type\":\"parcoords\",\"line\":{\"colorbar\":{\"outlinewidth\":0,\"ticks\":\"\"}}}],\"scatterpolargl\":[{\"type\":\"scatterpolargl\",\"marker\":{\"colorbar\":{\"outlinewidth\":0,\"ticks\":\"\"}}}],\"bar\":[{\"error_x\":{\"color\":\"#2a3f5f\"},\"error_y\":{\"color\":\"#2a3f5f\"},\"marker\":{\"line\":{\"color\":\"#E5ECF6\",\"width\":0.5},\"pattern\":{\"fillmode\":\"overlay\",\"size\":10,\"solidity\":0.2}},\"type\":\"bar\"}],\"scattergeo\":[{\"type\":\"scattergeo\",\"marker\":{\"colorbar\":{\"outlinewidth\":0,\"ticks\":\"\"}}}],\"scatterpolar\":[{\"type\":\"scatterpolar\",\"marker\":{\"colorbar\":{\"outlinewidth\":0,\"ticks\":\"\"}}}],\"histogram\":[{\"marker\":{\"pattern\":{\"fillmode\":\"overlay\",\"size\":10,\"solidity\":0.2}},\"type\":\"histogram\"}],\"scattergl\":[{\"type\":\"scattergl\",\"marker\":{\"colorbar\":{\"outlinewidth\":0,\"ticks\":\"\"}}}],\"scatter3d\":[{\"type\":\"scatter3d\",\"line\":{\"colorbar\":{\"outlinewidth\":0,\"ticks\":\"\"}},\"marker\":{\"colorbar\":{\"outlinewidth\":0,\"ticks\":\"\"}}}],\"scattermapbox\":[{\"type\":\"scattermapbox\",\"marker\":{\"colorbar\":{\"outlinewidth\":0,\"ticks\":\"\"}}}],\"scatterternary\":[{\"type\":\"scatterternary\",\"marker\":{\"colorbar\":{\"outlinewidth\":0,\"ticks\":\"\"}}}],\"scattercarpet\":[{\"type\":\"scattercarpet\",\"marker\":{\"colorbar\":{\"outlinewidth\":0,\"ticks\":\"\"}}}],\"carpet\":[{\"aaxis\":{\"endlinecolor\":\"#2a3f5f\",\"gridcolor\":\"white\",\"linecolor\":\"white\",\"minorgridcolor\":\"white\",\"startlinecolor\":\"#2a3f5f\"},\"baxis\":{\"endlinecolor\":\"#2a3f5f\",\"gridcolor\":\"white\",\"linecolor\":\"white\",\"minorgridcolor\":\"white\",\"startlinecolor\":\"#2a3f5f\"},\"type\":\"carpet\"}],\"table\":[{\"cells\":{\"fill\":{\"color\":\"#EBF0F8\"},\"line\":{\"color\":\"white\"}},\"header\":{\"fill\":{\"color\":\"#C8D4E3\"},\"line\":{\"color\":\"white\"}},\"type\":\"table\"}],\"barpolar\":[{\"marker\":{\"line\":{\"color\":\"#E5ECF6\",\"width\":0.5},\"pattern\":{\"fillmode\":\"overlay\",\"size\":10,\"solidity\":0.2}},\"type\":\"barpolar\"}],\"pie\":[{\"automargin\":true,\"type\":\"pie\"}]},\"layout\":{\"autotypenumbers\":\"strict\",\"colorway\":[\"#636efa\",\"#EF553B\",\"#00cc96\",\"#ab63fa\",\"#FFA15A\",\"#19d3f3\",\"#FF6692\",\"#B6E880\",\"#FF97FF\",\"#FECB52\"],\"font\":{\"color\":\"#2a3f5f\"},\"hovermode\":\"closest\",\"hoverlabel\":{\"align\":\"left\"},\"paper_bgcolor\":\"white\",\"plot_bgcolor\":\"#E5ECF6\",\"polar\":{\"bgcolor\":\"#E5ECF6\",\"angularaxis\":{\"gridcolor\":\"white\",\"linecolor\":\"white\",\"ticks\":\"\"},\"radialaxis\":{\"gridcolor\":\"white\",\"linecolor\":\"white\",\"ticks\":\"\"}},\"ternary\":{\"bgcolor\":\"#E5ECF6\",\"aaxis\":{\"gridcolor\":\"white\",\"linecolor\":\"white\",\"ticks\":\"\"},\"baxis\":{\"gridcolor\":\"white\",\"linecolor\":\"white\",\"ticks\":\"\"},\"caxis\":{\"gridcolor\":\"white\",\"linecolor\":\"white\",\"ticks\":\"\"}},\"coloraxis\":{\"colorbar\":{\"outlinewidth\":0,\"ticks\":\"\"}},\"colorscale\":{\"sequential\":[[0.0,\"#0d0887\"],[0.1111111111111111,\"#46039f\"],[0.2222222222222222,\"#7201a8\"],[0.3333333333333333,\"#9c179e\"],[0.4444444444444444,\"#bd3786\"],[0.5555555555555556,\"#d8576b\"],[0.6666666666666666,\"#ed7953\"],[0.7777777777777778,\"#fb9f3a\"],[0.8888888888888888,\"#fdca26\"],[1.0,\"#f0f921\"]],\"sequentialminus\":[[0.0,\"#0d0887\"],[0.1111111111111111,\"#46039f\"],[0.2222222222222222,\"#7201a8\"],[0.3333333333333333,\"#9c179e\"],[0.4444444444444444,\"#bd3786\"],[0.5555555555555556,\"#d8576b\"],[0.6666666666666666,\"#ed7953\"],[0.7777777777777778,\"#fb9f3a\"],[0.8888888888888888,\"#fdca26\"],[1.0,\"#f0f921\"]],\"diverging\":[[0,\"#8e0152\"],[0.1,\"#c51b7d\"],[0.2,\"#de77ae\"],[0.3,\"#f1b6da\"],[0.4,\"#fde0ef\"],[0.5,\"#f7f7f7\"],[0.6,\"#e6f5d0\"],[0.7,\"#b8e186\"],[0.8,\"#7fbc41\"],[0.9,\"#4d9221\"],[1,\"#276419\"]]},\"xaxis\":{\"gridcolor\":\"white\",\"linecolor\":\"white\",\"ticks\":\"\",\"title\":{\"standoff\":15},\"zerolinecolor\":\"white\",\"automargin\":true,\"zerolinewidth\":2},\"yaxis\":{\"gridcolor\":\"white\",\"linecolor\":\"white\",\"ticks\":\"\",\"title\":{\"standoff\":15},\"zerolinecolor\":\"white\",\"automargin\":true,\"zerolinewidth\":2},\"scene\":{\"xaxis\":{\"backgroundcolor\":\"#E5ECF6\",\"gridcolor\":\"white\",\"linecolor\":\"white\",\"showbackground\":true,\"ticks\":\"\",\"zerolinecolor\":\"white\",\"gridwidth\":2},\"yaxis\":{\"backgroundcolor\":\"#E5ECF6\",\"gridcolor\":\"white\",\"linecolor\":\"white\",\"showbackground\":true,\"ticks\":\"\",\"zerolinecolor\":\"white\",\"gridwidth\":2},\"zaxis\":{\"backgroundcolor\":\"#E5ECF6\",\"gridcolor\":\"white\",\"linecolor\":\"white\",\"showbackground\":true,\"ticks\":\"\",\"zerolinecolor\":\"white\",\"gridwidth\":2}},\"shapedefaults\":{\"line\":{\"color\":\"#2a3f5f\"}},\"annotationdefaults\":{\"arrowcolor\":\"#2a3f5f\",\"arrowhead\":0,\"arrowwidth\":1},\"geo\":{\"bgcolor\":\"white\",\"landcolor\":\"#E5ECF6\",\"subunitcolor\":\"white\",\"showland\":true,\"showlakes\":true,\"lakecolor\":\"white\"},\"title\":{\"x\":0.05},\"mapbox\":{\"style\":\"light\"}}},\"geo\":{\"domain\":{\"x\":[0.0,1.0],\"y\":[0.0,1.0]},\"center\":{},\"scope\":\"usa\"},\"coloraxis\":{\"colorbar\":{\"title\":{\"text\":\"count\"}},\"colorscale\":[[0.0,\"rgb(247,251,255)\"],[0.125,\"rgb(222,235,247)\"],[0.25,\"rgb(198,219,239)\"],[0.375,\"rgb(158,202,225)\"],[0.5,\"rgb(107,174,214)\"],[0.625,\"rgb(66,146,198)\"],[0.75,\"rgb(33,113,181)\"],[0.875,\"rgb(8,81,156)\"],[1.0,\"rgb(8,48,107)\"]]},\"legend\":{\"tracegroupgap\":0},\"title\":{\"text\":\"Physician counts by state\"},\"annotations\":[{\"font\":{\"size\":10},\"showarrow\":false,\"text\":\"AK<br>33\",\"x\":null,\"xanchor\":\"center\",\"xref\":\"x\",\"y\":33,\"yanchor\":\"middle\",\"yref\":\"y\"},{\"font\":{\"size\":10},\"showarrow\":false,\"text\":\"AL<br>183\",\"x\":null,\"xanchor\":\"center\",\"xref\":\"x\",\"y\":183,\"yanchor\":\"middle\",\"yref\":\"y\"},{\"font\":{\"size\":10},\"showarrow\":false,\"text\":\"AR<br>121\",\"x\":null,\"xanchor\":\"center\",\"xref\":\"x\",\"y\":121,\"yanchor\":\"middle\",\"yref\":\"y\"},{\"font\":{\"size\":10},\"showarrow\":false,\"text\":\"AZ<br>257\",\"x\":null,\"xanchor\":\"center\",\"xref\":\"x\",\"y\":257,\"yanchor\":\"middle\",\"yref\":\"y\"},{\"font\":{\"size\":10},\"showarrow\":false,\"text\":\"CA<br>988\",\"x\":null,\"xanchor\":\"center\",\"xref\":\"x\",\"y\":988,\"yanchor\":\"middle\",\"yref\":\"y\"},{\"font\":{\"size\":10},\"showarrow\":false,\"text\":\"CO<br>200\",\"x\":null,\"xanchor\":\"center\",\"xref\":\"x\",\"y\":200,\"yanchor\":\"middle\",\"yref\":\"y\"},{\"font\":{\"size\":10},\"showarrow\":false,\"text\":\"CT<br>122\",\"x\":null,\"xanchor\":\"center\",\"xref\":\"x\",\"y\":122,\"yanchor\":\"middle\",\"yref\":\"y\"},{\"font\":{\"size\":10},\"showarrow\":false,\"text\":\"DC<br>21\",\"x\":null,\"xanchor\":\"center\",\"xref\":\"x\",\"y\":21,\"yanchor\":\"middle\",\"yref\":\"y\"},{\"font\":{\"size\":10},\"showarrow\":false,\"text\":\"DE<br>40\",\"x\":null,\"xanchor\":\"center\",\"xref\":\"x\",\"y\":40,\"yanchor\":\"middle\",\"yref\":\"y\"},{\"font\":{\"size\":10},\"showarrow\":false,\"text\":\"FL<br>869\",\"x\":null,\"xanchor\":\"center\",\"xref\":\"x\",\"y\":869,\"yanchor\":\"middle\",\"yref\":\"y\"},{\"font\":{\"size\":10},\"showarrow\":false,\"text\":\"GA<br>456\",\"x\":null,\"xanchor\":\"center\",\"xref\":\"x\",\"y\":456,\"yanchor\":\"middle\",\"yref\":\"y\"},{\"font\":{\"size\":10},\"showarrow\":false,\"text\":\"GU<br>2\",\"x\":null,\"xanchor\":\"center\",\"xref\":\"x\",\"y\":2,\"yanchor\":\"middle\",\"yref\":\"y\"},{\"font\":{\"size\":10},\"showarrow\":false,\"text\":\"HI<br>17\",\"x\":null,\"xanchor\":\"center\",\"xref\":\"x\",\"y\":17,\"yanchor\":\"middle\",\"yref\":\"y\"},{\"font\":{\"size\":10},\"showarrow\":false,\"text\":\"IA<br>112\",\"x\":null,\"xanchor\":\"center\",\"xref\":\"x\",\"y\":112,\"yanchor\":\"middle\",\"yref\":\"y\"},{\"font\":{\"size\":10},\"showarrow\":false,\"text\":\"ID<br>73\",\"x\":null,\"xanchor\":\"center\",\"xref\":\"x\",\"y\":73,\"yanchor\":\"middle\",\"yref\":\"y\"},{\"font\":{\"size\":10},\"showarrow\":false,\"text\":\"IL<br>390\",\"x\":null,\"xanchor\":\"center\",\"xref\":\"x\",\"y\":390,\"yanchor\":\"middle\",\"yref\":\"y\"},{\"font\":{\"size\":10},\"showarrow\":false,\"text\":\"IN<br>255\",\"x\":null,\"xanchor\":\"center\",\"xref\":\"x\",\"y\":255,\"yanchor\":\"middle\",\"yref\":\"y\"},{\"font\":{\"size\":10},\"showarrow\":false,\"text\":\"KS<br>153\",\"x\":null,\"xanchor\":\"center\",\"xref\":\"x\",\"y\":153,\"yanchor\":\"middle\",\"yref\":\"y\"},{\"font\":{\"size\":10},\"showarrow\":false,\"text\":\"KY<br>152\",\"x\":null,\"xanchor\":\"center\",\"xref\":\"x\",\"y\":152,\"yanchor\":\"middle\",\"yref\":\"y\"},{\"font\":{\"size\":10},\"showarrow\":false,\"text\":\"LA<br>189\",\"x\":null,\"xanchor\":\"center\",\"xref\":\"x\",\"y\":189,\"yanchor\":\"middle\",\"yref\":\"y\"},{\"font\":{\"size\":10},\"showarrow\":false,\"text\":\"MA<br>242\",\"x\":null,\"xanchor\":\"center\",\"xref\":\"x\",\"y\":242,\"yanchor\":\"middle\",\"yref\":\"y\"},{\"font\":{\"size\":10},\"showarrow\":false,\"text\":\"MD<br>279\",\"x\":null,\"xanchor\":\"center\",\"xref\":\"x\",\"y\":279,\"yanchor\":\"middle\",\"yref\":\"y\"},{\"font\":{\"size\":10},\"showarrow\":false,\"text\":\"ME<br>29\",\"x\":null,\"xanchor\":\"center\",\"xref\":\"x\",\"y\":29,\"yanchor\":\"middle\",\"yref\":\"y\"},{\"font\":{\"size\":10},\"showarrow\":false,\"text\":\"MI<br>333\",\"x\":null,\"xanchor\":\"center\",\"xref\":\"x\",\"y\":333,\"yanchor\":\"middle\",\"yref\":\"y\"},{\"font\":{\"size\":10},\"showarrow\":false,\"text\":\"MN<br>231\",\"x\":null,\"xanchor\":\"center\",\"xref\":\"x\",\"y\":231,\"yanchor\":\"middle\",\"yref\":\"y\"},{\"font\":{\"size\":10},\"showarrow\":false,\"text\":\"MO<br>214\",\"x\":null,\"xanchor\":\"center\",\"xref\":\"x\",\"y\":214,\"yanchor\":\"middle\",\"yref\":\"y\"},{\"font\":{\"size\":10},\"showarrow\":false,\"text\":\"MS<br>95\",\"x\":null,\"xanchor\":\"center\",\"xref\":\"x\",\"y\":95,\"yanchor\":\"middle\",\"yref\":\"y\"},{\"font\":{\"size\":10},\"showarrow\":false,\"text\":\"MT<br>53\",\"x\":null,\"xanchor\":\"center\",\"xref\":\"x\",\"y\":53,\"yanchor\":\"middle\",\"yref\":\"y\"},{\"font\":{\"size\":10},\"showarrow\":false,\"text\":\"NC<br>322\",\"x\":null,\"xanchor\":\"center\",\"xref\":\"x\",\"y\":322,\"yanchor\":\"middle\",\"yref\":\"y\"},{\"font\":{\"size\":10},\"showarrow\":false,\"text\":\"ND<br>35\",\"x\":null,\"xanchor\":\"center\",\"xref\":\"x\",\"y\":35,\"yanchor\":\"middle\",\"yref\":\"y\"},{\"font\":{\"size\":10},\"showarrow\":false,\"text\":\"NE<br>79\",\"x\":null,\"xanchor\":\"center\",\"xref\":\"x\",\"y\":79,\"yanchor\":\"middle\",\"yref\":\"y\"},{\"font\":{\"size\":10},\"showarrow\":false,\"text\":\"NH<br>65\",\"x\":null,\"xanchor\":\"center\",\"xref\":\"x\",\"y\":65,\"yanchor\":\"middle\",\"yref\":\"y\"},{\"font\":{\"size\":10},\"showarrow\":false,\"text\":\"NJ<br>392\",\"x\":null,\"xanchor\":\"center\",\"xref\":\"x\",\"y\":392,\"yanchor\":\"middle\",\"yref\":\"y\"},{\"font\":{\"size\":10},\"showarrow\":false,\"text\":\"NM<br>56\",\"x\":null,\"xanchor\":\"center\",\"xref\":\"x\",\"y\":56,\"yanchor\":\"middle\",\"yref\":\"y\"},{\"font\":{\"size\":10},\"showarrow\":false,\"text\":\"NV<br>114\",\"x\":null,\"xanchor\":\"center\",\"xref\":\"x\",\"y\":114,\"yanchor\":\"middle\",\"yref\":\"y\"},{\"font\":{\"size\":10},\"showarrow\":false,\"text\":\"NY<br>533\",\"x\":null,\"xanchor\":\"center\",\"xref\":\"x\",\"y\":533,\"yanchor\":\"middle\",\"yref\":\"y\"},{\"font\":{\"size\":10},\"showarrow\":false,\"text\":\"OH<br>388\",\"x\":null,\"xanchor\":\"center\",\"xref\":\"x\",\"y\":388,\"yanchor\":\"middle\",\"yref\":\"y\"},{\"font\":{\"size\":10},\"showarrow\":false,\"text\":\"OK<br>127\",\"x\":null,\"xanchor\":\"center\",\"xref\":\"x\",\"y\":127,\"yanchor\":\"middle\",\"yref\":\"y\"},{\"font\":{\"size\":10},\"showarrow\":false,\"text\":\"OR<br>118\",\"x\":null,\"xanchor\":\"center\",\"xref\":\"x\",\"y\":118,\"yanchor\":\"middle\",\"yref\":\"y\"},{\"font\":{\"size\":10},\"showarrow\":false,\"text\":\"PA<br>443\",\"x\":null,\"xanchor\":\"center\",\"xref\":\"x\",\"y\":443,\"yanchor\":\"middle\",\"yref\":\"y\"},{\"font\":{\"size\":10},\"showarrow\":false,\"text\":\"PR<br>14\",\"x\":null,\"xanchor\":\"center\",\"xref\":\"x\",\"y\":14,\"yanchor\":\"middle\",\"yref\":\"y\"},{\"font\":{\"size\":10},\"showarrow\":false,\"text\":\"RI<br>23\",\"x\":null,\"xanchor\":\"center\",\"xref\":\"x\",\"y\":23,\"yanchor\":\"middle\",\"yref\":\"y\"},{\"font\":{\"size\":10},\"showarrow\":false,\"text\":\"SC<br>158\",\"x\":null,\"xanchor\":\"center\",\"xref\":\"x\",\"y\":158,\"yanchor\":\"middle\",\"yref\":\"y\"},{\"font\":{\"size\":10},\"showarrow\":false,\"text\":\"SD<br>42\",\"x\":null,\"xanchor\":\"center\",\"xref\":\"x\",\"y\":42,\"yanchor\":\"middle\",\"yref\":\"y\"},{\"font\":{\"size\":10},\"showarrow\":false,\"text\":\"TN<br>230\",\"x\":null,\"xanchor\":\"center\",\"xref\":\"x\",\"y\":230,\"yanchor\":\"middle\",\"yref\":\"y\"},{\"font\":{\"size\":10},\"showarrow\":false,\"text\":\"TX<br>844\",\"x\":null,\"xanchor\":\"center\",\"xref\":\"x\",\"y\":844,\"yanchor\":\"middle\",\"yref\":\"y\"},{\"font\":{\"size\":10},\"showarrow\":false,\"text\":\"UT<br>111\",\"x\":null,\"xanchor\":\"center\",\"xref\":\"x\",\"y\":111,\"yanchor\":\"middle\",\"yref\":\"y\"},{\"font\":{\"size\":10},\"showarrow\":false,\"text\":\"VA<br>248\",\"x\":null,\"xanchor\":\"center\",\"xref\":\"x\",\"y\":248,\"yanchor\":\"middle\",\"yref\":\"y\"},{\"font\":{\"size\":10},\"showarrow\":false,\"text\":\"VI<br>2\",\"x\":null,\"xanchor\":\"center\",\"xref\":\"x\",\"y\":2,\"yanchor\":\"middle\",\"yref\":\"y\"},{\"font\":{\"size\":10},\"showarrow\":false,\"text\":\"VT<br>18\",\"x\":null,\"xanchor\":\"center\",\"xref\":\"x\",\"y\":18,\"yanchor\":\"middle\",\"yref\":\"y\"},{\"font\":{\"size\":10},\"showarrow\":false,\"text\":\"WA<br>218\",\"x\":null,\"xanchor\":\"center\",\"xref\":\"x\",\"y\":218,\"yanchor\":\"middle\",\"yref\":\"y\"},{\"font\":{\"size\":10},\"showarrow\":false,\"text\":\"WI<br>225\",\"x\":null,\"xanchor\":\"center\",\"xref\":\"x\",\"y\":225,\"yanchor\":\"middle\",\"yref\":\"y\"},{\"font\":{\"size\":10},\"showarrow\":false,\"text\":\"WV<br>36\",\"x\":null,\"xanchor\":\"center\",\"xref\":\"x\",\"y\":36,\"yanchor\":\"middle\",\"yref\":\"y\"},{\"font\":{\"size\":10},\"showarrow\":false,\"text\":\"WY<br>33\",\"x\":null,\"xanchor\":\"center\",\"xref\":\"x\",\"y\":33,\"yanchor\":\"middle\",\"yref\":\"y\"}]},                        {\"responsive\": true}                    ).then(function(){\n",
              "                            \n",
              "var gd = document.getElementById('8c7fca6c-c278-4ba3-ab6f-072df54f0719');\n",
              "var x = new MutationObserver(function (mutations, observer) {{\n",
              "        var display = window.getComputedStyle(gd).display;\n",
              "        if (!display || display === 'none') {{\n",
              "            console.log([gd, 'removed!']);\n",
              "            Plotly.purge(gd);\n",
              "            observer.disconnect();\n",
              "        }}\n",
              "}});\n",
              "\n",
              "// Listen for the removal of the full notebook cells\n",
              "var notebookContainer = gd.closest('#notebook-container');\n",
              "if (notebookContainer) {{\n",
              "    x.observe(notebookContainer, {childList: true});\n",
              "}}\n",
              "\n",
              "// Listen for the clearing of the current output cell\n",
              "var outputEl = gd.closest('.output');\n",
              "if (outputEl) {{\n",
              "    x.observe(outputEl, {childList: true});\n",
              "}}\n",
              "\n",
              "                        })                };                            </script>        </div>\n",
              "</body>\n",
              "</html>"
            ]
          },
          "metadata": {}
        }
      ]
    },
    {
      "cell_type": "code",
      "source": [
        "import json"
      ],
      "metadata": {
        "id": "sdz_gsaQrPxp"
      },
      "id": "sdz_gsaQrPxp",
      "execution_count": null,
      "outputs": []
    },
    {
      "cell_type": "code",
      "source": [
        "pip install plotly --upgrade"
      ],
      "metadata": {
        "colab": {
          "base_uri": "https://localhost:8080/"
        },
        "id": "xOaJ896T7SgF",
        "outputId": "3b3ff106-4645-4698-91f4-aaddce9c5218"
      },
      "id": "xOaJ896T7SgF",
      "execution_count": null,
      "outputs": [
        {
          "output_type": "stream",
          "name": "stdout",
          "text": [
            "Looking in indexes: https://pypi.org/simple, https://us-python.pkg.dev/colab-wheels/public/simple/\n",
            "Requirement already satisfied: plotly in /usr/local/lib/python3.9/dist-packages (5.13.1)\n",
            "Requirement already satisfied: tenacity>=6.2.0 in /usr/local/lib/python3.9/dist-packages (from plotly) (8.2.2)\n"
          ]
        }
      ]
    },
    {
      "cell_type": "code",
      "source": [
        "import plotly.express as px\n",
        "\n",
        "# Create a dictionary mapping state codes to counts\n",
        "data_dict = {'AK': 33, 'AL': 183, 'AR': 121, 'AZ': 257, 'CA': 988, 'CO': 200, 'CT': 122, 'DC': 21, 'DE': 40, 'FL': 869,\n",
        "             'GA': 456, 'GU': 2, 'HI': 17, 'IA': 112, 'ID': 73, 'IL': 390, 'IN': 255, 'KS': 153, 'KY': 152, 'LA': 189,\n",
        "             'MA': 242, 'MD': 279, 'ME': 29, 'MI': 333, 'MN': 231, 'MO': 214, 'MS': 95, 'MT': 53, 'NC': 322, 'ND': 35,\n",
        "             'NE': 79, 'NH': 65, 'NJ': 392, 'NM': 56, 'NV': 114, 'NY': 533, 'OH': 388, 'OK': 127, 'OR': 118, 'PA': 443,\n",
        "             'PR': 14, 'RI': 23, 'SC': 158, 'SD': 42, 'TN': 230, 'TX': 844, 'UT': 111, 'VA': 248, 'VI': 2, 'VT': 18,\n",
        "             'WA': 218, 'WI': 225, 'WV': 36, 'WY': 33}\n",
        "\n",
        "# Convert the dictionary to a DataFrame\n",
        "df = pd.DataFrame.from_dict(data_dict, orient='index', columns=['count']).reset_index().rename(columns={'index': 'state'})\n",
        "\n",
        "# Create a US map plot\n",
        "fig = px.choropleth(df, locations='state', locationmode='USA-states', color='count', scope='usa',\n",
        "                    color_continuous_scale='Blues', title='Physician counts by state', text=df['count'])\n",
        "fig.update_traces(textposition='inside')\n",
        "fig.show()\n",
        "\n",
        "\n"
      ],
      "metadata": {
        "colab": {
          "base_uri": "https://localhost:8080/",
          "height": 236
        },
        "id": "ODaZaKgN28tX",
        "outputId": "ef36cd5c-ddb9-48ec-ebc4-b3741b57ac3c"
      },
      "id": "ODaZaKgN28tX",
      "execution_count": null,
      "outputs": [
        {
          "output_type": "error",
          "ename": "TypeError",
          "evalue": "ignored",
          "traceback": [
            "\u001b[0;31m---------------------------------------------------------------------------\u001b[0m",
            "\u001b[0;31mTypeError\u001b[0m                                 Traceback (most recent call last)",
            "\u001b[0;32m<ipython-input-12-c86b371cd5cb>\u001b[0m in \u001b[0;36m<module>\u001b[0;34m\u001b[0m\n\u001b[1;32m     13\u001b[0m \u001b[0;34m\u001b[0m\u001b[0m\n\u001b[1;32m     14\u001b[0m \u001b[0;31m# Create a US map plot\u001b[0m\u001b[0;34m\u001b[0m\u001b[0;34m\u001b[0m\u001b[0m\n\u001b[0;32m---> 15\u001b[0;31m fig = px.choropleth(df, locations='state', locationmode='USA-states', color='count', scope='usa',\n\u001b[0m\u001b[1;32m     16\u001b[0m                     color_continuous_scale='Blues', title='Physician counts by state', text=df['count'])\n\u001b[1;32m     17\u001b[0m \u001b[0mfig\u001b[0m\u001b[0;34m.\u001b[0m\u001b[0mupdate_traces\u001b[0m\u001b[0;34m(\u001b[0m\u001b[0mtextposition\u001b[0m\u001b[0;34m=\u001b[0m\u001b[0;34m'inside'\u001b[0m\u001b[0;34m)\u001b[0m\u001b[0;34m\u001b[0m\u001b[0;34m\u001b[0m\u001b[0m\n",
            "\u001b[0;31mTypeError\u001b[0m: choropleth() got an unexpected keyword argument 'text'"
          ]
        }
      ]
    },
    {
      "cell_type": "code",
      "source": [
        "import matplotlib.pyplot as plt\n",
        "import numpy as np\n",
        "\n",
        "# Data\n",
        "provider_types = ['Anesthesiology', 'Physical Medicine and Rehabilitation', 'Pain Management', 'Ambulatory Surgical Center', 'Interventional Pain Management', 'Diagnostic Radiology', 'Orthopedic Surgery', 'Neurosurgery', 'Interventional Radiology', 'Neurology', 'Certified Registered Nurse Anesthetist (CRNA)', 'Family Practice', 'Sports Medicine', 'Internal Medicine', 'Physician Assistant', 'Nurse Practitioner', 'Emergency Medicine', 'Rheumatology', 'General Practice', 'Osteopathic Manipulative Medicine', 'General Surgery', 'Psychiatry', 'Undefined Physician type', 'Clinical Laboratory', 'Hospitalist', 'Nuclear Medicine', 'Critical Care (Intensivists)', 'Clinic or Group Practice', 'Neuropsychiatry', 'Nephrology', 'Preventive Medicine', 'Independent Diagnostic Testing Facility (IDTF)', 'Hospice and Palliative Care']\n",
        "counts = [2226, 2053, 1826, 1729, 1333, 788, 435, 123, 118, 97, 65, 46, 26, 25, 25, 13, 13, 7, 6, 5, 5, 3, 3, 2, 2, 2, 1, 1, 1, 1, 1, 1, 1]\n",
        "\n",
        "# Create a horizontal bar chart\n",
        "y_pos = np.arange(len(provider_types))\n",
        "plt.barh(y_pos, counts, align='center')\n",
        "plt.yticks(y_pos, provider_types)\n",
        "plt.xlabel('Count')\n",
        "plt.title('Provider Types')\n",
        "\n",
        "# Show the plot\n",
        "plt.show()\n"
      ],
      "metadata": {
        "colab": {
          "base_uri": "https://localhost:8080/",
          "height": 295
        },
        "id": "1AFu9Y_1Xhc1",
        "outputId": "c3e8c7c5-adc8-45df-a87b-143f84d5332d"
      },
      "id": "1AFu9Y_1Xhc1",
      "execution_count": null,
      "outputs": [
        {
          "output_type": "display_data",
          "data": {
            "text/plain": [
              "<Figure size 432x288 with 1 Axes>"
            ],
            "image/png": "[encoded data removed]"
          },
          "metadata": {
            "needs_background": "light"
          }
        }
      ]
    },
    {
      "cell_type": "code",
      "source": [
        "# Group physicians by specialty and calculate total ESI patient volume for each physician\n",
        "physician_esivolume = data.groupby('Rndrng_Prvdr_Type')['Tot_Benes'].sum()\n",
        "\n",
        "# Calculate mean and standard deviation of ESI patient volume for each specialty group\n",
        "mean_esivolume = physician_esivolume.mean()\n",
        "std_esivolume = physician_esivolume.std()\n",
        "\n",
        "# Define segments based on ESI patient volume\n",
        "high_volume_segment = physician_esivolume[physician_esivolume >= mean_esivolume + std_esivolume]\n",
        "medium_volume_segment = physician_esivolume[(physician_esivolume < mean_esivolume + std_esivolume) & (physician_esivolume >= mean_esivolume - std_esivolume)]\n",
        "low_volume_segment = physician_esivolume[physician_esivolume < mean_esivolume - std_esivolume]\n",
        "\n",
        "# Prioritize the high and medium volume segments\n"
      ],
      "metadata": {
        "id": "kvU6I0BfbkiC"
      },
      "id": "kvU6I0BfbkiC",
      "execution_count": null,
      "outputs": []
    },
    {
      "cell_type": "code",
      "source": [
        "mean_esivolume + std_esivolume"
      ],
      "metadata": {
        "id": "N-9wTFnSdoZ4",
        "colab": {
          "base_uri": "https://localhost:8080/"
        },
        "outputId": "814c773c-db81-4f3d-fe70-aca14f3e7212"
      },
      "id": "N-9wTFnSdoZ4",
      "execution_count": null,
      "outputs": [
        {
          "output_type": "execute_result",
          "data": {
            "text/plain": [
              "157498.29988517115"
            ]
          },
          "metadata": {},
          "execution_count": 15
        }
      ]
    },
    {
      "cell_type": "code",
      "source": [
        "print(high_volume_segment)"
      ],
      "metadata": {
        "id": "0JsrH4yDcW2t",
        "colab": {
          "base_uri": "https://localhost:8080/"
        },
        "outputId": "4fa13965-a528-4735-a70a-f2224fdbf71d"
      },
      "id": "0JsrH4yDcW2t",
      "execution_count": null,
      "outputs": [
        {
          "output_type": "stream",
          "name": "stdout",
          "text": [
            "Rndrng_Prvdr_Type\n",
            "Ambulatory Surgical Center              328009\n",
            "Anesthesiology                          315911\n",
            "Interventional Pain Management          253359\n",
            "Pain Management                         283686\n",
            "Physical Medicine and Rehabilitation    314926\n",
            "Name: Tot_Benes, dtype: int64\n"
          ]
        }
      ]
    },
    {
      "cell_type": "code",
      "source": [
        "# List of target specialties\n",
        "target_specialties = [\"Ambulatory Surgical Center\", \"Anesthesiology\", \"Interventional Pain Management\", \"Pain Management\", \"Physical Medicine and Rehabilitation\"]\n",
        "\n",
        "# Filter the data to include only doctors with target specialties\n",
        "specialty_filtered_data = filtered_data[filtered_data['Rndrng_Prvdr_Type'].isin(target_specialties)]\n",
        "\n",
        "# Calculate the number of doctors with target specialties\n",
        "num_target_specialty_doctors = specialty_filtered_data['Rndrng_NPI'].nunique()\n",
        "\n",
        "print(f\"Number of doctors with target specialties: {num_target_specialty_doctors}\")\n",
        "\n",
        "32"
      ],
      "metadata": {
        "id": "Mb0Ta-3vjNWi",
        "colab": {
          "base_uri": "https://localhost:8080/"
        },
        "outputId": "f9e993e6-2ad7-4616-a4ff-d025f8c818ad"
      },
      "id": "Mb0Ta-3vjNWi",
      "execution_count": null,
      "outputs": [
        {
          "output_type": "stream",
          "name": "stdout",
          "text": [
            "Number of doctors with target specialties: 9167\n"
          ]
        },
        {
          "output_type": "execute_result",
          "data": {
            "text/plain": [
              "32"
            ]
          },
          "metadata": {},
          "execution_count": 17
        }
      ]
    },
    {
      "cell_type": "code",
      "source": [
        "# List of target specialties\n",
        "target_specialties = [\"Ambulatory Surgical Center\"\n",
        "                      ,\"Anesthesiology\"\n",
        "                      , \"Physical Medicine and Rehabilitation\"\n",
        "                      , \"Pain Management\"]\n",
        "\n",
        "# Filter the data to include only doctors with target specialties\n",
        "specialty_filtered_data = filtered_data[filtered_data['Rndrng_Prvdr_Type'].isin(target_specialties)]\n",
        "\n",
        "# Calculate the number of doctors with target specialties\n",
        "num_target_specialty_doctors = specialty_filtered_data['Rndrng_NPI'].nunique()\n",
        "\n",
        "print(f\"Number of doctors with target specialties: {num_target_specialty_doctors}\")"
      ],
      "metadata": {
        "id": "tTUC-Yyvp49C",
        "colab": {
          "base_uri": "https://localhost:8080/"
        },
        "outputId": "696394a7-5499-4d7a-9db3-8c9c5112f6f5"
      },
      "id": "tTUC-Yyvp49C",
      "execution_count": null,
      "outputs": [
        {
          "output_type": "stream",
          "name": "stdout",
          "text": [
            "Number of doctors with target specialties: 7834\n"
          ]
        }
      ]
    },
    {
      "cell_type": "code",
      "source": [
        "print(medium_volume_segment)"
      ],
      "metadata": {
        "id": "3Wc0J06kdFaf",
        "colab": {
          "base_uri": "https://localhost:8080/"
        },
        "outputId": "e30f8e70-99e2-4ecc-8d0d-01e6214b20a7"
      },
      "id": "3Wc0J06kdFaf",
      "execution_count": null,
      "outputs": [
        {
          "output_type": "stream",
          "name": "stdout",
          "text": [
            "Rndrng_Prvdr_Type\n",
            "Certified Registered Nurse Anesthetist (CRNA)      3351\n",
            "Clinic or Group Practice                             37\n",
            "Clinical Laboratory                                 446\n",
            "Critical Care (Intensivists)                         97\n",
            "Diagnostic Radiology                              41609\n",
            "Emergency Medicine                                 1771\n",
            "Family Practice                                    5776\n",
            "General Practice                                    406\n",
            "General Surgery                                     601\n",
            "Hospice and Palliative Care                          25\n",
            "Hospitalist                                         202\n",
            "Independent Diagnostic Testing Facility (IDTF)       17\n",
            "Internal Medicine                                  2383\n",
            "Interventional Radiology                           5730\n",
            "Nephrology                                           37\n",
            "Neurology                                         10184\n",
            "Neuropsychiatry                                     162\n",
            "Neurosurgery                                       7664\n",
            "Nuclear Medicine                                     66\n",
            "Nurse Practitioner                                 1092\n",
            "Orthopedic Surgery                                41531\n",
            "Osteopathic Manipulative Medicine                  1077\n",
            "Physician Assistant                                1906\n",
            "Preventive Medicine                                  13\n",
            "Psychiatry                                          329\n",
            "Rheumatology                                        443\n",
            "Sports Medicine                                    2311\n",
            "Undefined Physician type                            592\n",
            "Name: Tot_Benes, dtype: int64\n"
          ]
        }
      ]
    },
    {
      "cell_type": "code",
      "source": [
        "print(low_volume_segment)"
      ],
      "metadata": {
        "id": "h_Q9Daj9dfp6",
        "colab": {
          "base_uri": "https://localhost:8080/"
        },
        "outputId": "9a603215-8c2e-4c56-b76a-ee5805bac130"
      },
      "id": "h_Q9Daj9dfp6",
      "execution_count": null,
      "outputs": [
        {
          "output_type": "stream",
          "name": "stdout",
          "text": [
            "Series([], Name: Tot_Benes, dtype: int64)\n"
          ]
        }
      ]
    },
    {
      "cell_type": "code",
      "source": [
        "data[\"Tot_Benes\"].sum()"
      ],
      "metadata": {
        "id": "FvxNcZ8-eFun",
        "colab": {
          "base_uri": "https://localhost:8080/"
        },
        "outputId": "8561093c-2a03-41f4-9c83-3bc91f64aeaf"
      },
      "id": "FvxNcZ8-eFun",
      "execution_count": null,
      "outputs": [
        {
          "output_type": "execute_result",
          "data": {
            "text/plain": [
              "1625749"
            ]
          },
          "metadata": {},
          "execution_count": 21
        }
      ]
    },
    {
      "cell_type": "code",
      "source": [
        "1495891/1625749"
      ],
      "metadata": {
        "id": "6mmAA8cleK-C",
        "colab": {
          "base_uri": "https://localhost:8080/"
        },
        "outputId": "38b3256c-1b4d-40b2-84a9-89ebecaeaefa"
      },
      "id": "6mmAA8cleK-C",
      "execution_count": null,
      "outputs": [
        {
          "output_type": "execute_result",
          "data": {
            "text/plain": [
              "0.9201242012143326"
            ]
          },
          "metadata": {},
          "execution_count": 22
        }
      ]
    },
    {
      "cell_type": "code",
      "source": [
        "# Group physicians by specialty and calculate total ESI patient volume for each physician\n",
        "physician_esivolume = data.groupby('Rndrng_NPI')['Tot_Benes'].sum()\n",
        "\n",
        "# Calculate mean and standard deviation of ESI patient volume for each specialty group\n",
        "mean_esivolume = physician_esivolume.mean()\n",
        "std_esivolume = physician_esivolume.std()\n",
        "\n",
        "# Define segments based on ESI patient volume\n",
        "high_volume_segment = physician_esivolume[physician_esivolume >= mean_esivolume + std_esivolume]\n",
        "medium_volume_segment = physician_esivolume[(physician_esivolume < mean_esivolume + std_esivolume) & (physician_esivolume >= mean_esivolume - std_esivolume)]\n",
        "low_volume_segment = physician_esivolume[physician_esivolume < mean_esivolume - std_esivolume]\n",
        "\n",
        "# Prioritize the high and medium volume segments\n"
      ],
      "metadata": {
        "id": "R-w2Rmr1emKp",
        "colab": {
          "base_uri": "https://localhost:8080/",
          "height": 235
        },
        "outputId": "bc5ea398-d1a8-441b-e22b-91b36210bc50"
      },
      "id": "R-w2Rmr1emKp",
      "execution_count": null,
      "outputs": [
        {
          "output_type": "error",
          "ename": "NameError",
          "evalue": "ignored",
          "traceback": [
            "\u001b[0;31m---------------------------------------------------------------------------\u001b[0m",
            "\u001b[0;31mNameError\u001b[0m                                 Traceback (most recent call last)",
            "\u001b[0;32m<ipython-input-1-a5a30a8d8fcb>\u001b[0m in \u001b[0;36m<cell line: 2>\u001b[0;34m()\u001b[0m\n\u001b[1;32m      1\u001b[0m \u001b[0;31m# Group physicians by specialty and calculate total ESI patient volume for each physician\u001b[0m\u001b[0;34m\u001b[0m\u001b[0;34m\u001b[0m\u001b[0m\n\u001b[0;32m----> 2\u001b[0;31m \u001b[0mphysician_esivolume\u001b[0m \u001b[0;34m=\u001b[0m \u001b[0mdata\u001b[0m\u001b[0;34m.\u001b[0m\u001b[0mgroupby\u001b[0m\u001b[0;34m(\u001b[0m\u001b[0;34m'Rndrng_NPI'\u001b[0m\u001b[0;34m)\u001b[0m\u001b[0;34m[\u001b[0m\u001b[0;34m'Tot_Benes'\u001b[0m\u001b[0;34m]\u001b[0m\u001b[0;34m.\u001b[0m\u001b[0msum\u001b[0m\u001b[0;34m(\u001b[0m\u001b[0;34m)\u001b[0m\u001b[0;34m\u001b[0m\u001b[0;34m\u001b[0m\u001b[0m\n\u001b[0m\u001b[1;32m      3\u001b[0m \u001b[0;34m\u001b[0m\u001b[0m\n\u001b[1;32m      4\u001b[0m \u001b[0;31m# Calculate mean and standard deviation of ESI patient volume for each specialty group\u001b[0m\u001b[0;34m\u001b[0m\u001b[0;34m\u001b[0m\u001b[0m\n\u001b[1;32m      5\u001b[0m \u001b[0mmean_esivolume\u001b[0m \u001b[0;34m=\u001b[0m \u001b[0mphysician_esivolume\u001b[0m\u001b[0;34m.\u001b[0m\u001b[0mmean\u001b[0m\u001b[0;34m(\u001b[0m\u001b[0;34m)\u001b[0m\u001b[0;34m\u001b[0m\u001b[0;34m\u001b[0m\u001b[0m\n",
            "\u001b[0;31mNameError\u001b[0m: name 'data' is not defined"
          ]
        }
      ]
    },
    {
      "cell_type": "code",
      "source": [
        "print(high_volume_segment)"
      ],
      "metadata": {
        "id": "5yFlIfKKeuZt",
        "colab": {
          "base_uri": "https://localhost:8080/"
        },
        "outputId": "15c18467-49fb-4515-c376-29b41d9a5bf6"
      },
      "id": "5yFlIfKKeuZt",
      "execution_count": null,
      "outputs": [
        {
          "output_type": "stream",
          "name": "stdout",
          "text": [
            "Rndrng_Prvdr_State_Abrvtn\n",
            "CA    147992\n",
            "FL    128285\n",
            "GA     67703\n",
            "IL     63172\n",
            "NY     69945\n",
            "PA     69137\n",
            "TX    122396\n",
            "Name: Tot_Benes, dtype: int64\n"
          ]
        }
      ]
    },
    {
      "cell_type": "code",
      "source": [
        "print(high_volume_segment.sum()/data[\"Tot_Benes\"].sum())"
      ],
      "metadata": {
        "id": "b7P3iqJWfLUN",
        "colab": {
          "base_uri": "https://localhost:8080/"
        },
        "outputId": "f5f6c64b-c970-48fe-a1ba-2f2b00d2f457"
      },
      "id": "b7P3iqJWfLUN",
      "execution_count": null,
      "outputs": [
        {
          "output_type": "stream",
          "name": "stdout",
          "text": [
            "0.41127504922346564\n"
          ]
        }
      ]
    },
    {
      "cell_type": "code",
      "source": [
        "print(medium_volume_segment)"
      ],
      "metadata": {
        "id": "pHlxm3GTeyH_",
        "colab": {
          "base_uri": "https://localhost:8080/"
        },
        "outputId": "749a451b-5786-4527-d866-aff6ba4a2afc"
      },
      "id": "pHlxm3GTeyH_",
      "execution_count": null,
      "outputs": [
        {
          "output_type": "stream",
          "name": "stdout",
          "text": [
            "Rndrng_Prvdr_State_Abrvtn\n",
            "AK     2618\n",
            "AL    39228\n",
            "AR    19863\n",
            "AZ    45830\n",
            "CO    27338\n",
            "CT    12400\n",
            "DC     1752\n",
            "DE    11599\n",
            "GU      122\n",
            "HI     1432\n",
            "IA    12119\n",
            "ID     7028\n",
            "IN    39923\n",
            "KS    23090\n",
            "KY    21829\n",
            "LA    31925\n",
            "MA    33058\n",
            "MD    49767\n",
            "ME     3585\n",
            "MI    39147\n",
            "MN    19567\n",
            "MO    32703\n",
            "MS    29725\n",
            "MT     7476\n",
            "NC    50527\n",
            "ND     5090\n",
            "NE    11075\n",
            "NH     7555\n",
            "NJ    46069\n",
            "NM     5510\n",
            "NV    16949\n",
            "OH    48812\n",
            "OK    24147\n",
            "OR    13931\n",
            "PR     1536\n",
            "RI     2369\n",
            "SC    46335\n",
            "SD     6179\n",
            "TN    36673\n",
            "UT    17346\n",
            "VA    44740\n",
            "VI       60\n",
            "VT     1830\n",
            "WA    27070\n",
            "WI    22847\n",
            "WV     3793\n",
            "WY     3552\n",
            "Name: Tot_Benes, dtype: int64\n"
          ]
        }
      ]
    },
    {
      "cell_type": "code",
      "source": [
        "print(low_volume_segment)"
      ],
      "metadata": {
        "id": "Es5mTx7fe9WN",
        "colab": {
          "base_uri": "https://localhost:8080/"
        },
        "outputId": "7217a805-e265-414f-ead3-9e7f35dc9d70"
      },
      "id": "Es5mTx7fe9WN",
      "execution_count": null,
      "outputs": [
        {
          "output_type": "stream",
          "name": "stdout",
          "text": [
            "Series([], Name: Tot_Benes, dtype: int64)\n"
          ]
        }
      ]
    },
    {
      "cell_type": "markdown",
      "source": [
        "## Clustering\n"
      ],
      "metadata": {
        "id": "4UvechPF5swN"
      },
      "id": "4UvechPF5swN"
    },
    {
      "cell_type": "code",
      "source": [
        "import numpy as np\n",
        "import matplotlib.pyplot as plt\n",
        "import seaborn as sns\n",
        "from sklearn.cluster import KMeans\n",
        "from sklearn.preprocessing import StandardScaler, OneHotEncoder\n"
      ],
      "metadata": {
        "id": "Ds6bC3bN5u6u"
      },
      "id": "Ds6bC3bN5u6u",
      "execution_count": null,
      "outputs": []
    },
    {
      "cell_type": "code",
      "source": [
        "# Group by physician NPI, specialty, and state, summing the total number of ESI patients\n",
        "physician_specialty_state_counts = filtered_data.groupby(['Rndrng_NPI', 'Rndrng_Prvdr_Type', 'Rndrng_Prvdr_State_Abrvtn'])['Tot_Benes'].sum().reset_index()\n",
        "physician_specialty_state_counts"
      ],
      "metadata": {
        "id": "fLzENXkg5yqS",
        "colab": {
          "base_uri": "https://localhost:8080/",
          "height": 424
        },
        "outputId": "00b2d3c4-950d-4eb6-f40f-f49c1a421c8c"
      },
      "id": "fLzENXkg5yqS",
      "execution_count": null,
      "outputs": [
        {
          "output_type": "execute_result",
          "data": {
            "text/plain": [
              "       Rndrng_NPI                     Rndrng_Prvdr_Type  \\\n",
              "0      1003000142                        Anesthesiology   \n",
              "1      1003001363                       Pain Management   \n",
              "2      1003002742  Physical Medicine and Rehabilitation   \n",
              "3      1003012014                        Anesthesiology   \n",
              "4      1003013335                        Anesthesiology   \n",
              "...           ...                                   ...   \n",
              "10978  1992970859                       Pain Management   \n",
              "10979  1992971055  Physical Medicine and Rehabilitation   \n",
              "10980  1992980718        Interventional Pain Management   \n",
              "10981  1992992010                  Diagnostic Radiology   \n",
              "10982  1992999775            Ambulatory Surgical Center   \n",
              "\n",
              "      Rndrng_Prvdr_State_Abrvtn  Tot_Benes  \n",
              "0                            OH        111  \n",
              "1                            CA        299  \n",
              "2                            CA         12  \n",
              "3                            RI        135  \n",
              "4                            CA        146  \n",
              "...                         ...        ...  \n",
              "10978                        IL        327  \n",
              "10979                        DE        367  \n",
              "10980                        LA         63  \n",
              "10981                        ID         20  \n",
              "10982                        OR        113  \n",
              "\n",
              "[10983 rows x 4 columns]"
            ],
            "text/html": [
              "\n",
              "  <div id=\"df-3c3b4ed8-ddcc-4a65-b497-764e67b5d3ed\">\n",
              "    <div class=\"colab-df-container\">\n",
              "      <div>\n",
              "<style scoped>\n",
              "    .dataframe tbody tr th:only-of-type {\n",
              "        vertical-align: middle;\n",
              "    }\n",
              "\n",
              "    .dataframe tbody tr th {\n",
              "        vertical-align: top;\n",
              "    }\n",
              "\n",
              "    .dataframe thead th {\n",
              "        text-align: right;\n",
              "    }\n",
              "</style>\n",
              "<table border=\"1\" class=\"dataframe\">\n",
              "  <thead>\n",
              "    <tr style=\"text-align: right;\">\n",
              "      <th></th>\n",
              "      <th>Rndrng_NPI</th>\n",
              "      <th>Rndrng_Prvdr_Type</th>\n",
              "      <th>Rndrng_Prvdr_State_Abrvtn</th>\n",
              "      <th>Tot_Benes</th>\n",
              "    </tr>\n",
              "  </thead>\n",
              "  <tbody>\n",
              "    <tr>\n",
              "      <th>0</th>\n",
              "      <td>1003000142</td>\n",
              "      <td>Anesthesiology</td>\n",
              "      <td>OH</td>\n",
              "      <td>111</td>\n",
              "    </tr>\n",
              "    <tr>\n",
              "      <th>1</th>\n",
              "      <td>1003001363</td>\n",
              "      <td>Pain Management</td>\n",
              "      <td>CA</td>\n",
              "      <td>299</td>\n",
              "    </tr>\n",
              "    <tr>\n",
              "      <th>2</th>\n",
              "      <td>1003002742</td>\n",
              "      <td>Physical Medicine and Rehabilitation</td>\n",
              "      <td>CA</td>\n",
              "      <td>12</td>\n",
              "    </tr>\n",
              "    <tr>\n",
              "      <th>3</th>\n",
              "      <td>1003012014</td>\n",
              "      <td>Anesthesiology</td>\n",
              "      <td>RI</td>\n",
              "      <td>135</td>\n",
              "    </tr>\n",
              "    <tr>\n",
              "      <th>4</th>\n",
              "      <td>1003013335</td>\n",
              "      <td>Anesthesiology</td>\n",
              "      <td>CA</td>\n",
              "      <td>146</td>\n",
              "    </tr>\n",
              "    <tr>\n",
              "      <th>...</th>\n",
              "      <td>...</td>\n",
              "      <td>...</td>\n",
              "      <td>...</td>\n",
              "      <td>...</td>\n",
              "    </tr>\n",
              "    <tr>\n",
              "      <th>10978</th>\n",
              "      <td>1992970859</td>\n",
              "      <td>Pain Management</td>\n",
              "      <td>IL</td>\n",
              "      <td>327</td>\n",
              "    </tr>\n",
              "    <tr>\n",
              "      <th>10979</th>\n",
              "      <td>1992971055</td>\n",
              "      <td>Physical Medicine and Rehabilitation</td>\n",
              "      <td>DE</td>\n",
              "      <td>367</td>\n",
              "    </tr>\n",
              "    <tr>\n",
              "      <th>10980</th>\n",
              "      <td>1992980718</td>\n",
              "      <td>Interventional Pain Management</td>\n",
              "      <td>LA</td>\n",
              "      <td>63</td>\n",
              "    </tr>\n",
              "    <tr>\n",
              "      <th>10981</th>\n",
              "      <td>1992992010</td>\n",
              "      <td>Diagnostic Radiology</td>\n",
              "      <td>ID</td>\n",
              "      <td>20</td>\n",
              "    </tr>\n",
              "    <tr>\n",
              "      <th>10982</th>\n",
              "      <td>1992999775</td>\n",
              "      <td>Ambulatory Surgical Center</td>\n",
              "      <td>OR</td>\n",
              "      <td>113</td>\n",
              "    </tr>\n",
              "  </tbody>\n",
              "</table>\n",
              "<p>10983 rows × 4 columns</p>\n",
              "</div>\n",
              "      <button class=\"colab-df-convert\" onclick=\"convertToInteractive('df-3c3b4ed8-ddcc-4a65-b497-764e67b5d3ed')\"\n",
              "              title=\"Convert this dataframe to an interactive table.\"\n",
              "              style=\"display:none;\">\n",
              "        \n",
              "  <svg xmlns=\"http://www.w3.org/2000/svg\" height=\"24px\"viewBox=\"0 0 24 24\"\n",
              "       width=\"24px\">\n",
              "    <path d=\"M0 0h24v24H0V0z\" fill=\"none\"/>\n",
              "    <path d=\"M18.56 5.44l.94 2.06.94-2.06 2.06-.94-2.06-.94-.94-2.06-.94 2.06-2.06.94zm-11 1L8.5 8.5l.94-2.06 2.06-.94-2.06-.94L8.5 2.5l-.94 2.06-2.06.94zm10 10l.94 2.06.94-2.06 2.06-.94-2.06-.94-.94-2.06-.94 2.06-2.06.94z\"/><path d=\"M17.41 7.96l-1.37-1.37c-.4-.4-.92-.59-1.43-.59-.52 0-1.04.2-1.43.59L10.3 9.45l-7.72 7.72c-.78.78-.78 2.05 0 2.83L4 21.41c.39.39.9.59 1.41.59.51 0 1.02-.2 1.41-.59l7.78-7.78 2.81-2.81c.8-.78.8-2.07 0-2.86zM5.41 20L4 18.59l7.72-7.72 1.47 1.35L5.41 20z\"/>\n",
              "  </svg>\n",
              "      </button>\n",
              "      \n",
              "  <style>\n",
              "    .colab-df-container {\n",
              "      display:flex;\n",
              "      flex-wrap:wrap;\n",
              "      gap: 12px;\n",
              "    }\n",
              "\n",
              "    .colab-df-convert {\n",
              "      background-color: #E8F0FE;\n",
              "      border: none;\n",
              "      border-radius: 50%;\n",
              "      cursor: pointer;\n",
              "      display: none;\n",
              "      fill: #1967D2;\n",
              "      height: 32px;\n",
              "      padding: 0 0 0 0;\n",
              "      width: 32px;\n",
              "    }\n",
              "\n",
              "    .colab-df-convert:hover {\n",
              "      background-color: #E2EBFA;\n",
              "      box-shadow: 0px 1px 2px rgba(60, 64, 67, 0.3), 0px 1px 3px 1px rgba(60, 64, 67, 0.15);\n",
              "      fill: #174EA6;\n",
              "    }\n",
              "\n",
              "    [theme=dark] .colab-df-convert {\n",
              "      background-color: #3B4455;\n",
              "      fill: #D2E3FC;\n",
              "    }\n",
              "\n",
              "    [theme=dark] .colab-df-convert:hover {\n",
              "      background-color: #434B5C;\n",
              "      box-shadow: 0px 1px 3px 1px rgba(0, 0, 0, 0.15);\n",
              "      filter: drop-shadow(0px 1px 2px rgba(0, 0, 0, 0.3));\n",
              "      fill: #FFFFFF;\n",
              "    }\n",
              "  </style>\n",
              "\n",
              "      <script>\n",
              "        const buttonEl =\n",
              "          document.querySelector('#df-3c3b4ed8-ddcc-4a65-b497-764e67b5d3ed button.colab-df-convert');\n",
              "        buttonEl.style.display =\n",
              "          google.colab.kernel.accessAllowed ? 'block' : 'none';\n",
              "\n",
              "        async function convertToInteractive(key) {\n",
              "          const element = document.querySelector('#df-3c3b4ed8-ddcc-4a65-b497-764e67b5d3ed');\n",
              "          const dataTable =\n",
              "            await google.colab.kernel.invokeFunction('convertToInteractive',\n",
              "                                                     [key], {});\n",
              "          if (!dataTable) return;\n",
              "\n",
              "          const docLinkHtml = 'Like what you see? Visit the ' +\n",
              "            '<a target=\"_blank\" href=https://colab.research.google.com/notebooks/data_table.ipynb>data table notebook</a>'\n",
              "            + ' to learn more about interactive tables.';\n",
              "          element.innerHTML = '';\n",
              "          dataTable['output_type'] = 'display_data';\n",
              "          await google.colab.output.renderOutput(dataTable, element);\n",
              "          const docLink = document.createElement('div');\n",
              "          docLink.innerHTML = docLinkHtml;\n",
              "          element.appendChild(docLink);\n",
              "        }\n",
              "      </script>\n",
              "    </div>\n",
              "  </div>\n",
              "  "
            ]
          },
          "metadata": {},
          "execution_count": 29
        }
      ]
    },
    {
      "cell_type": "code",
      "source": [
        "# One-hot encode the specialty and state columns\n",
        "encoder = OneHotEncoder(sparse=False)\n",
        "encoded_specialty_state = encoder.fit_transform(physician_specialty_state_counts[['Rndrng_Prvdr_Type', 'Rndrng_Prvdr_State_Abrvtn']])\n",
        "\n",
        "# Convert the encoded data to a DataFrame and set appropriate column names\n",
        "encoded_df = pd.DataFrame(encoded_specialty_state, columns=encoder.get_feature_names_out(['Specialty', 'State']))\n",
        "\n",
        "# Concatenate the encoded columns with the original DataFrame\n",
        "clustering_data = pd.concat([physician_specialty_state_counts, encoded_df], axis=1).drop(['Rndrng_Prvdr_Type', 'Rndrng_Prvdr_State_Abrvtn'], axis=1)\n"
      ],
      "metadata": {
        "id": "mHOWdVet91Fb",
        "colab": {
          "base_uri": "https://localhost:8080/",
          "height": 451
        },
        "outputId": "ff09ad2f-84ca-4340-d5ba-f6b4819bef5b"
      },
      "id": "mHOWdVet91Fb",
      "execution_count": null,
      "outputs": [
        {
          "output_type": "stream",
          "name": "stderr",
          "text": [
            "/usr/local/lib/python3.9/dist-packages/sklearn/preprocessing/_encoders.py:868: FutureWarning:\n",
            "\n",
            "`sparse` was renamed to `sparse_output` in version 1.2 and will be removed in 1.4. `sparse_output` is ignored unless you leave `sparse` to its default value.\n",
            "\n"
          ]
        },
        {
          "output_type": "error",
          "ename": "ValueError",
          "evalue": "ignored",
          "traceback": [
            "\u001b[0;31m---------------------------------------------------------------------------\u001b[0m",
            "\u001b[0;31mValueError\u001b[0m                                Traceback (most recent call last)",
            "\u001b[0;32m<ipython-input-30-7a914e1fe81c>\u001b[0m in \u001b[0;36m<module>\u001b[0;34m\u001b[0m\n\u001b[1;32m      4\u001b[0m \u001b[0;34m\u001b[0m\u001b[0m\n\u001b[1;32m      5\u001b[0m \u001b[0;31m# Convert the encoded data to a DataFrame and set appropriate column names\u001b[0m\u001b[0;34m\u001b[0m\u001b[0;34m\u001b[0m\u001b[0m\n\u001b[0;32m----> 6\u001b[0;31m \u001b[0mencoded_df\u001b[0m \u001b[0;34m=\u001b[0m \u001b[0mpd\u001b[0m\u001b[0;34m.\u001b[0m\u001b[0mDataFrame\u001b[0m\u001b[0;34m(\u001b[0m\u001b[0mencoded_specialty_state\u001b[0m\u001b[0;34m,\u001b[0m \u001b[0mcolumns\u001b[0m\u001b[0;34m=\u001b[0m\u001b[0mencoder\u001b[0m\u001b[0;34m.\u001b[0m\u001b[0mget_feature_names_out\u001b[0m\u001b[0;34m(\u001b[0m\u001b[0;34m[\u001b[0m\u001b[0;34m'Specialty'\u001b[0m\u001b[0;34m,\u001b[0m \u001b[0;34m'State'\u001b[0m\u001b[0;34m]\u001b[0m\u001b[0;34m)\u001b[0m\u001b[0;34m)\u001b[0m\u001b[0;34m\u001b[0m\u001b[0;34m\u001b[0m\u001b[0m\n\u001b[0m\u001b[1;32m      7\u001b[0m \u001b[0;34m\u001b[0m\u001b[0m\n\u001b[1;32m      8\u001b[0m \u001b[0;31m# Concatenate the encoded columns with the original DataFrame\u001b[0m\u001b[0;34m\u001b[0m\u001b[0;34m\u001b[0m\u001b[0m\n",
            "\u001b[0;32m/usr/local/lib/python3.9/dist-packages/sklearn/preprocessing/_encoders.py\u001b[0m in \u001b[0;36mget_feature_names_out\u001b[0;34m(self, input_features)\u001b[0m\n\u001b[1;32m   1100\u001b[0m         \"\"\"\n\u001b[1;32m   1101\u001b[0m         \u001b[0mcheck_is_fitted\u001b[0m\u001b[0;34m(\u001b[0m\u001b[0mself\u001b[0m\u001b[0;34m)\u001b[0m\u001b[0;34m\u001b[0m\u001b[0;34m\u001b[0m\u001b[0m\n\u001b[0;32m-> 1102\u001b[0;31m         \u001b[0minput_features\u001b[0m \u001b[0;34m=\u001b[0m \u001b[0m_check_feature_names_in\u001b[0m\u001b[0;34m(\u001b[0m\u001b[0mself\u001b[0m\u001b[0;34m,\u001b[0m \u001b[0minput_features\u001b[0m\u001b[0;34m)\u001b[0m\u001b[0;34m\u001b[0m\u001b[0;34m\u001b[0m\u001b[0m\n\u001b[0m\u001b[1;32m   1103\u001b[0m         cats = [\n\u001b[1;32m   1104\u001b[0m             \u001b[0mself\u001b[0m\u001b[0;34m.\u001b[0m\u001b[0m_compute_transformed_categories\u001b[0m\u001b[0;34m(\u001b[0m\u001b[0mi\u001b[0m\u001b[0;34m)\u001b[0m\u001b[0;34m\u001b[0m\u001b[0;34m\u001b[0m\u001b[0m\n",
            "\u001b[0;32m/usr/local/lib/python3.9/dist-packages/sklearn/utils/validation.py\u001b[0m in \u001b[0;36m_check_feature_names_in\u001b[0;34m(estimator, input_features, generate_names)\u001b[0m\n\u001b[1;32m   1952\u001b[0m             \u001b[0mfeature_names_in_\u001b[0m\u001b[0;34m,\u001b[0m \u001b[0minput_features\u001b[0m\u001b[0;34m\u001b[0m\u001b[0;34m\u001b[0m\u001b[0m\n\u001b[1;32m   1953\u001b[0m         ):\n\u001b[0;32m-> 1954\u001b[0;31m             \u001b[0;32mraise\u001b[0m \u001b[0mValueError\u001b[0m\u001b[0;34m(\u001b[0m\u001b[0;34m\"input_features is not equal to feature_names_in_\"\u001b[0m\u001b[0;34m)\u001b[0m\u001b[0;34m\u001b[0m\u001b[0;34m\u001b[0m\u001b[0m\n\u001b[0m\u001b[1;32m   1955\u001b[0m \u001b[0;34m\u001b[0m\u001b[0m\n\u001b[1;32m   1956\u001b[0m         \u001b[0;32mif\u001b[0m \u001b[0mn_features_in_\u001b[0m \u001b[0;32mis\u001b[0m \u001b[0;32mnot\u001b[0m \u001b[0;32mNone\u001b[0m \u001b[0;32mand\u001b[0m \u001b[0mlen\u001b[0m\u001b[0;34m(\u001b[0m\u001b[0minput_features\u001b[0m\u001b[0;34m)\u001b[0m \u001b[0;34m!=\u001b[0m \u001b[0mn_features_in_\u001b[0m\u001b[0;34m:\u001b[0m\u001b[0;34m\u001b[0m\u001b[0;34m\u001b[0m\u001b[0m\n",
            "\u001b[0;31mValueError\u001b[0m: input_features is not equal to feature_names_in_"
          ]
        }
      ]
    },
    {
      "cell_type": "code",
      "source": [
        "# Pivot the DataFrame to have specialties as columns and fill missing values with 0\n",
        "specialty_pivot = physician_specialty_counts.pivot_table(values='Tot_Benes', index='Rndrng_NPI', columns='Rndrng_Prvdr_Type', fill_value=0).reset_index()"
      ],
      "metadata": {
        "id": "ic9nmw_J8Vfc",
        "colab": {
          "base_uri": "https://localhost:8080/",
          "height": 184
        },
        "outputId": "dba92589-58f7-43af-86e3-a425a2a9db9d"
      },
      "id": "ic9nmw_J8Vfc",
      "execution_count": null,
      "outputs": [
        {
          "output_type": "error",
          "ename": "NameError",
          "evalue": "ignored",
          "traceback": [
            "\u001b[0;31m---------------------------------------------------------------------------\u001b[0m",
            "\u001b[0;31mNameError\u001b[0m                                 Traceback (most recent call last)",
            "\u001b[0;32m<ipython-input-31-9d07ddc5a0a4>\u001b[0m in \u001b[0;36m<module>\u001b[0;34m\u001b[0m\n\u001b[1;32m      1\u001b[0m \u001b[0;31m# Pivot the DataFrame to have specialties as columns and fill missing values with 0\u001b[0m\u001b[0;34m\u001b[0m\u001b[0;34m\u001b[0m\u001b[0m\n\u001b[0;32m----> 2\u001b[0;31m \u001b[0mspecialty_pivot\u001b[0m \u001b[0;34m=\u001b[0m \u001b[0mphysician_specialty_counts\u001b[0m\u001b[0;34m.\u001b[0m\u001b[0mpivot_table\u001b[0m\u001b[0;34m(\u001b[0m\u001b[0mvalues\u001b[0m\u001b[0;34m=\u001b[0m\u001b[0;34m'Tot_Benes'\u001b[0m\u001b[0;34m,\u001b[0m \u001b[0mindex\u001b[0m\u001b[0;34m=\u001b[0m\u001b[0;34m'Rndrng_NPI'\u001b[0m\u001b[0;34m,\u001b[0m \u001b[0mcolumns\u001b[0m\u001b[0;34m=\u001b[0m\u001b[0;34m'Rndrng_Prvdr_Type'\u001b[0m\u001b[0;34m,\u001b[0m \u001b[0mfill_value\u001b[0m\u001b[0;34m=\u001b[0m\u001b[0;36m0\u001b[0m\u001b[0;34m)\u001b[0m\u001b[0;34m.\u001b[0m\u001b[0mreset_index\u001b[0m\u001b[0;34m(\u001b[0m\u001b[0;34m)\u001b[0m\u001b[0;34m\u001b[0m\u001b[0;34m\u001b[0m\u001b[0m\n\u001b[0m",
            "\u001b[0;31mNameError\u001b[0m: name 'physician_specialty_counts' is not defined"
          ]
        }
      ]
    },
    {
      "cell_type": "code",
      "source": [
        "specialty_pivot"
      ],
      "metadata": {
        "id": "iwiKBr9S5-_I"
      },
      "id": "iwiKBr9S5-_I",
      "execution_count": null,
      "outputs": []
    },
    {
      "cell_type": "code",
      "source": [
        "# Determine the optimal number of clusters using the elbow method\n",
        "X = specialty_pivot.iloc[:, 1:].values\n",
        "scaler = StandardScaler()\n",
        "X_scaled = scaler.fit_transform(X)\n",
        "\n",
        "wcss = []\n",
        "for i in range(1, 20):\n",
        "    kmeans = KMeans(n_clusters=i, init='k-means++', max_iter=300, n_init=10, random_state=0)\n",
        "    kmeans.fit(X_scaled)\n",
        "    wcss.append(kmeans.inertia_)\n",
        "\n",
        "plt.plot(range(1,20), wcss)\n",
        "plt.title('Elbow Method')\n",
        "plt.xlabel('Number of clusters')\n",
        "plt.ylabel('WCSS')\n",
        "plt.show()\n",
        "\n"
      ],
      "metadata": {
        "id": "H4FHJtoB6fMW"
      },
      "id": "H4FHJtoB6fMW",
      "execution_count": null,
      "outputs": []
    },
    {
      "cell_type": "code",
      "source": [
        "# Set the number of clusters based on the elbow method results\n",
        "num_clusters = 3  # Update this based on the elbow method results\n",
        "\n",
        "# Fit the k-means clustering model\n",
        "kmeans = KMeans(n_clusters=num_clusters, init='k-means++', max_iter=300, n_init=10, random_state=0)\n",
        "clusters = kmeans.fit_predict(X_scaled)\n",
        "\n",
        "# Add the cluster assignments to the DataFrame\n",
        "specialty_pivot['Cluster'] = clusters\n"
      ],
      "metadata": {
        "id": "wsYDPCge6o0y"
      },
      "id": "wsYDPCge6o0y",
      "execution_count": null,
      "outputs": []
    },
    {
      "cell_type": "code",
      "source": [
        "# assuming that your dataset is stored in a variable called `df`\n",
        "x = filtered_data['Tot_Benes']\n",
        "y = filtered_data['Avg_Mdcr_Stdzd_Amt']\n",
        "\n",
        "# create scatter plot\n",
        "plt.scatter(x, y)\n",
        "\n",
        "# add x and y labels\n",
        "plt.xlabel('Total Beneficiaries')\n",
        "plt.ylabel('Average Medicare Standardized Amount')\n",
        "\n",
        "# show the plot\n",
        "plt.show()"
      ],
      "metadata": {
        "colab": {
          "base_uri": "https://localhost:8080/",
          "height": 235
        },
        "id": "TFaz_D-v_1YI",
        "outputId": "2b5ae8e9-7663-4fa5-dfb3-a867123f4569"
      },
      "id": "TFaz_D-v_1YI",
      "execution_count": null,
      "outputs": [
        {
          "output_type": "error",
          "ename": "NameError",
          "evalue": "ignored",
          "traceback": [
            "\u001b[0;31m---------------------------------------------------------------------------\u001b[0m",
            "\u001b[0;31mNameError\u001b[0m                                 Traceback (most recent call last)",
            "\u001b[0;32m<ipython-input-1-8831cec02c4d>\u001b[0m in \u001b[0;36m<module>\u001b[0;34m\u001b[0m\n\u001b[1;32m      1\u001b[0m \u001b[0;31m# assuming that your dataset is stored in a variable called `df`\u001b[0m\u001b[0;34m\u001b[0m\u001b[0;34m\u001b[0m\u001b[0m\n\u001b[0;32m----> 2\u001b[0;31m \u001b[0mx\u001b[0m \u001b[0;34m=\u001b[0m \u001b[0mfiltered_data\u001b[0m\u001b[0;34m[\u001b[0m\u001b[0;34m'Tot_Benes'\u001b[0m\u001b[0;34m]\u001b[0m\u001b[0;34m\u001b[0m\u001b[0;34m\u001b[0m\u001b[0m\n\u001b[0m\u001b[1;32m      3\u001b[0m \u001b[0my\u001b[0m \u001b[0;34m=\u001b[0m \u001b[0mfiltered_data\u001b[0m\u001b[0;34m[\u001b[0m\u001b[0;34m'Avg_Mdcr_Stdzd_Amt'\u001b[0m\u001b[0;34m]\u001b[0m\u001b[0;34m\u001b[0m\u001b[0;34m\u001b[0m\u001b[0m\n\u001b[1;32m      4\u001b[0m \u001b[0;34m\u001b[0m\u001b[0m\n\u001b[1;32m      5\u001b[0m \u001b[0;31m# create scatter plot\u001b[0m\u001b[0;34m\u001b[0m\u001b[0;34m\u001b[0m\u001b[0m\n",
            "\u001b[0;31mNameError\u001b[0m: name 'filtered_data' is not defined"
          ]
        }
      ]
    },
    {
      "cell_type": "code",
      "source": [
        "cali = pd.read_excel(\"/content/drive/MyDrive/Cali-Speci-ESI.xlsx\")"
      ],
      "metadata": {
        "id": "7HFlUgp-QT6M"
      },
      "id": "7HFlUgp-QT6M",
      "execution_count": null,
      "outputs": []
    },
    {
      "cell_type": "code",
      "source": [
        "cali"
      ],
      "metadata": {
        "colab": {
          "base_uri": "https://localhost:8080/",
          "height": 783
        },
        "id": "6PMGvQpy5zHv",
        "outputId": "48d29e16-e6e4-4b1c-a4c0-0bf8d38175c1"
      },
      "id": "6PMGvQpy5zHv",
      "execution_count": null,
      "outputs": [
        {
          "output_type": "execute_result",
          "data": {
            "text/plain": [
              "      Rndrng_NPI                   Rndrng_Prvdr_Last_Org_Name  \\\n",
              "0     1003001363                                      Stevens   \n",
              "1     1003013335                                        Sarti   \n",
              "2     1003015843  Northbay Physician's Surgery Center, L.L.C.   \n",
              "3     1003867359                                        Jarka   \n",
              "4     1013068642              Renaissance Surgery Center, Llc   \n",
              "...          ...                                          ...   \n",
              "1899  1982863759                                          Kim   \n",
              "1900  1982951554                             Dhaliwal Md Inc.   \n",
              "1901  1992191514                                        Samie   \n",
              "1902  1992783302                                      Levitan   \n",
              "1903  1992868368                                       Rahbar   \n",
              "\n",
              "     Rndrng_Prvdr_First_Name Rndrng_Prvdr_MI Rndrng_Prvdr_Crdntls  \\\n",
              "0                    Charles             NaN                 M.D.   \n",
              "1                       Juan               F                 M.D.   \n",
              "2                        NaN             NaN                  NaN   \n",
              "3                     Robert             NaN                 M.D.   \n",
              "4                        NaN             NaN                  NaN   \n",
              "...                      ...             ...                  ...   \n",
              "1899                   Jorge             NaN                   MD   \n",
              "1900                Gurpreet               S              MD INC.   \n",
              "1901                    Sina             NaN                   MD   \n",
              "1902                    Russ               L                 M.D.   \n",
              "1903                  Maryam             NaN                   MD   \n",
              "\n",
              "     Rndrng_Prvdr_Gndr Rndrng_Prvdr_Ent_Cd           Rndrng_Prvdr_St1  \\\n",
              "0                    M                   I  1665 S Imperial Ave Ste D   \n",
              "1                    M                   I      2545 West Hammer Lane   \n",
              "2                  NaN                   O         1006 Nut Tree Road   \n",
              "3                    M                   I      4300 Golden Center Dr   \n",
              "4                  NaN                   O             2365 E Fir Ave   \n",
              "...                ...                 ...                        ...   \n",
              "1899                 M                   I        15400 Foothill Blvd   \n",
              "1900                 M                   I    1530 Bessie Ave Ste 104   \n",
              "1901                 M                   I       220 W 5th St Apt 304   \n",
              "1902                 M                   I           10 Santa Rosa St   \n",
              "1903                 F                   I   17822 Beach Blvd Ste 152   \n",
              "\n",
              "     Rndrng_Prvdr_St2 Rndrng_Prvdr_City  ... Tot_Benes  Tot_Srvcs  \\\n",
              "0                 NaN         El Centro  ...        28         60   \n",
              "1                 NaN          Stockton  ...        19         20   \n",
              "2                 NaN         Vacaville  ...        48         58   \n",
              "3             Suite E       Placerville  ...       134        212   \n",
              "4                 NaN            Fresno  ...        34         56   \n",
              "...               ...               ...  ...       ...        ...   \n",
              "1899              NaN       San Leandro  ...        13         16   \n",
              "1900              NaN             Tracy  ...        14         18   \n",
              "1901              NaN       Los Angeles  ...        86        111   \n",
              "1902         Ste. 201   San Luis Obispo  ...        42         64   \n",
              "1903              NaN  Huntington Beach  ...        61         97   \n",
              "\n",
              "      Tot_Bene_Day_Srvcs  Avg_Sbmtd_Chrg Avg_Mdcr_Alowd_Amt Avg_Mdcr_Pymt_Amt  \\\n",
              "0                     60         $647.20            $247.84           $186.41   \n",
              "1                     20         $973.00            $111.95            $80.57   \n",
              "2                     58       $3,323.85            $414.94           $319.33   \n",
              "3                    212         $765.00            $109.85            $80.63   \n",
              "4                     56       $3,285.80            $316.46           $249.57   \n",
              "...                  ...             ...                ...               ...   \n",
              "1899                  15         $181.23             $62.25            $49.60   \n",
              "1900                  18         $257.56             $54.86            $43.71   \n",
              "1901                 110          $85.00             $60.02            $47.84   \n",
              "1902                  55       $1,321.88             $59.84            $47.85   \n",
              "1903                  92         $189.86             $59.36            $47.30   \n",
              "\n",
              "     Avg_Mdcr_Stdzd_Amt Total Revenue   Medicare % Coverage  \\\n",
              "0                194.67     $38,832.00                 0.30   \n",
              "1                 78.07     $19,460.00                 0.08   \n",
              "2                230.75   $1,92,783.30                 0.07   \n",
              "3                 80.32   $1,62,180.00                 0.10   \n",
              "4                227.25   $1,84,004.80                 0.07   \n",
              "...                 ...            ...                  ...   \n",
              "1899              44.73      $2,899.68                 0.25   \n",
              "1900              43.27      $4,636.08                 0.17   \n",
              "1901              45.42      $9,435.00                 0.53   \n",
              "1902              46.38     $84,600.32                 0.04   \n",
              "1903              44.49     $18,416.42                 0.23   \n",
              "\n",
              "         Grouping of specialities  \n",
              "0     Pain management specialties  \n",
              "1            Surgical specialties  \n",
              "2            Surgical specialties  \n",
              "3            Surgical specialties  \n",
              "4            Surgical specialties  \n",
              "...                           ...  \n",
              "1899  Pain management specialties  \n",
              "1900  Pain management specialties  \n",
              "1901  Pain management specialties  \n",
              "1902         Surgical specialties  \n",
              "1903  Pain management specialties  \n",
              "\n",
              "[1904 rows x 32 columns]"
            ],
            "text/html": [
              "\n",
              "  <div id=\"df-a056763f-5fe2-482c-97bf-fe25630a5758\">\n",
              "    <div class=\"colab-df-container\">\n",
              "      <div>\n",
              "<style scoped>\n",
              "    .dataframe tbody tr th:only-of-type {\n",
              "        vertical-align: middle;\n",
              "    }\n",
              "\n",
              "    .dataframe tbody tr th {\n",
              "        vertical-align: top;\n",
              "    }\n",
              "\n",
              "    .dataframe thead th {\n",
              "        text-align: right;\n",
              "    }\n",
              "</style>\n",
              "<table border=\"1\" class=\"dataframe\">\n",
              "  <thead>\n",
              "    <tr style=\"text-align: right;\">\n",
              "      <th></th>\n",
              "      <th>Rndrng_NPI</th>\n",
              "      <th>Rndrng_Prvdr_Last_Org_Name</th>\n",
              "      <th>Rndrng_Prvdr_First_Name</th>\n",
              "      <th>Rndrng_Prvdr_MI</th>\n",
              "      <th>Rndrng_Prvdr_Crdntls</th>\n",
              "      <th>Rndrng_Prvdr_Gndr</th>\n",
              "      <th>Rndrng_Prvdr_Ent_Cd</th>\n",
              "      <th>Rndrng_Prvdr_St1</th>\n",
              "      <th>Rndrng_Prvdr_St2</th>\n",
              "      <th>Rndrng_Prvdr_City</th>\n",
              "      <th>...</th>\n",
              "      <th>Tot_Benes</th>\n",
              "      <th>Tot_Srvcs</th>\n",
              "      <th>Tot_Bene_Day_Srvcs</th>\n",
              "      <th>Avg_Sbmtd_Chrg</th>\n",
              "      <th>Avg_Mdcr_Alowd_Amt</th>\n",
              "      <th>Avg_Mdcr_Pymt_Amt</th>\n",
              "      <th>Avg_Mdcr_Stdzd_Amt</th>\n",
              "      <th>Total Revenue</th>\n",
              "      <th>Medicare % Coverage</th>\n",
              "      <th>Grouping of specialities</th>\n",
              "    </tr>\n",
              "  </thead>\n",
              "  <tbody>\n",
              "    <tr>\n",
              "      <th>0</th>\n",
              "      <td>1003001363</td>\n",
              "      <td>Stevens</td>\n",
              "      <td>Charles</td>\n",
              "      <td>NaN</td>\n",
              "      <td>M.D.</td>\n",
              "      <td>M</td>\n",
              "      <td>I</td>\n",
              "      <td>1665 S Imperial Ave Ste D</td>\n",
              "      <td>NaN</td>\n",
              "      <td>El Centro</td>\n",
              "      <td>...</td>\n",
              "      <td>28</td>\n",
              "      <td>60</td>\n",
              "      <td>60</td>\n",
              "      <td>$647.20</td>\n",
              "      <td>$247.84</td>\n",
              "      <td>$186.41</td>\n",
              "      <td>194.67</td>\n",
              "      <td>$38,832.00</td>\n",
              "      <td>0.30</td>\n",
              "      <td>Pain management specialties</td>\n",
              "    </tr>\n",
              "    <tr>\n",
              "      <th>1</th>\n",
              "      <td>1003013335</td>\n",
              "      <td>Sarti</td>\n",
              "      <td>Juan</td>\n",
              "      <td>F</td>\n",
              "      <td>M.D.</td>\n",
              "      <td>M</td>\n",
              "      <td>I</td>\n",
              "      <td>2545 West Hammer Lane</td>\n",
              "      <td>NaN</td>\n",
              "      <td>Stockton</td>\n",
              "      <td>...</td>\n",
              "      <td>19</td>\n",
              "      <td>20</td>\n",
              "      <td>20</td>\n",
              "      <td>$973.00</td>\n",
              "      <td>$111.95</td>\n",
              "      <td>$80.57</td>\n",
              "      <td>78.07</td>\n",
              "      <td>$19,460.00</td>\n",
              "      <td>0.08</td>\n",
              "      <td>Surgical specialties</td>\n",
              "    </tr>\n",
              "    <tr>\n",
              "      <th>2</th>\n",
              "      <td>1003015843</td>\n",
              "      <td>Northbay Physician's Surgery Center, L.L.C.</td>\n",
              "      <td>NaN</td>\n",
              "      <td>NaN</td>\n",
              "      <td>NaN</td>\n",
              "      <td>NaN</td>\n",
              "      <td>O</td>\n",
              "      <td>1006 Nut Tree Road</td>\n",
              "      <td>NaN</td>\n",
              "      <td>Vacaville</td>\n",
              "      <td>...</td>\n",
              "      <td>48</td>\n",
              "      <td>58</td>\n",
              "      <td>58</td>\n",
              "      <td>$3,323.85</td>\n",
              "      <td>$414.94</td>\n",
              "      <td>$319.33</td>\n",
              "      <td>230.75</td>\n",
              "      <td>$1,92,783.30</td>\n",
              "      <td>0.07</td>\n",
              "      <td>Surgical specialties</td>\n",
              "    </tr>\n",
              "    <tr>\n",
              "      <th>3</th>\n",
              "      <td>1003867359</td>\n",
              "      <td>Jarka</td>\n",
              "      <td>Robert</td>\n",
              "      <td>NaN</td>\n",
              "      <td>M.D.</td>\n",
              "      <td>M</td>\n",
              "      <td>I</td>\n",
              "      <td>4300 Golden Center Dr</td>\n",
              "      <td>Suite E</td>\n",
              "      <td>Placerville</td>\n",
              "      <td>...</td>\n",
              "      <td>134</td>\n",
              "      <td>212</td>\n",
              "      <td>212</td>\n",
              "      <td>$765.00</td>\n",
              "      <td>$109.85</td>\n",
              "      <td>$80.63</td>\n",
              "      <td>80.32</td>\n",
              "      <td>$1,62,180.00</td>\n",
              "      <td>0.10</td>\n",
              "      <td>Surgical specialties</td>\n",
              "    </tr>\n",
              "    <tr>\n",
              "      <th>4</th>\n",
              "      <td>1013068642</td>\n",
              "      <td>Renaissance Surgery Center, Llc</td>\n",
              "      <td>NaN</td>\n",
              "      <td>NaN</td>\n",
              "      <td>NaN</td>\n",
              "      <td>NaN</td>\n",
              "      <td>O</td>\n",
              "      <td>2365 E Fir Ave</td>\n",
              "      <td>NaN</td>\n",
              "      <td>Fresno</td>\n",
              "      <td>...</td>\n",
              "      <td>34</td>\n",
              "      <td>56</td>\n",
              "      <td>56</td>\n",
              "      <td>$3,285.80</td>\n",
              "      <td>$316.46</td>\n",
              "      <td>$249.57</td>\n",
              "      <td>227.25</td>\n",
              "      <td>$1,84,004.80</td>\n",
              "      <td>0.07</td>\n",
              "      <td>Surgical specialties</td>\n",
              "    </tr>\n",
              "    <tr>\n",
              "      <th>...</th>\n",
              "      <td>...</td>\n",
              "      <td>...</td>\n",
              "      <td>...</td>\n",
              "      <td>...</td>\n",
              "      <td>...</td>\n",
              "      <td>...</td>\n",
              "      <td>...</td>\n",
              "      <td>...</td>\n",
              "      <td>...</td>\n",
              "      <td>...</td>\n",
              "      <td>...</td>\n",
              "      <td>...</td>\n",
              "      <td>...</td>\n",
              "      <td>...</td>\n",
              "      <td>...</td>\n",
              "      <td>...</td>\n",
              "      <td>...</td>\n",
              "      <td>...</td>\n",
              "      <td>...</td>\n",
              "      <td>...</td>\n",
              "      <td>...</td>\n",
              "    </tr>\n",
              "    <tr>\n",
              "      <th>1899</th>\n",
              "      <td>1982863759</td>\n",
              "      <td>Kim</td>\n",
              "      <td>Jorge</td>\n",
              "      <td>NaN</td>\n",
              "      <td>MD</td>\n",
              "      <td>M</td>\n",
              "      <td>I</td>\n",
              "      <td>15400 Foothill Blvd</td>\n",
              "      <td>NaN</td>\n",
              "      <td>San Leandro</td>\n",
              "      <td>...</td>\n",
              "      <td>13</td>\n",
              "      <td>16</td>\n",
              "      <td>15</td>\n",
              "      <td>$181.23</td>\n",
              "      <td>$62.25</td>\n",
              "      <td>$49.60</td>\n",
              "      <td>44.73</td>\n",
              "      <td>$2,899.68</td>\n",
              "      <td>0.25</td>\n",
              "      <td>Pain management specialties</td>\n",
              "    </tr>\n",
              "    <tr>\n",
              "      <th>1900</th>\n",
              "      <td>1982951554</td>\n",
              "      <td>Dhaliwal Md Inc.</td>\n",
              "      <td>Gurpreet</td>\n",
              "      <td>S</td>\n",
              "      <td>MD INC.</td>\n",
              "      <td>M</td>\n",
              "      <td>I</td>\n",
              "      <td>1530 Bessie Ave Ste 104</td>\n",
              "      <td>NaN</td>\n",
              "      <td>Tracy</td>\n",
              "      <td>...</td>\n",
              "      <td>14</td>\n",
              "      <td>18</td>\n",
              "      <td>18</td>\n",
              "      <td>$257.56</td>\n",
              "      <td>$54.86</td>\n",
              "      <td>$43.71</td>\n",
              "      <td>43.27</td>\n",
              "      <td>$4,636.08</td>\n",
              "      <td>0.17</td>\n",
              "      <td>Pain management specialties</td>\n",
              "    </tr>\n",
              "    <tr>\n",
              "      <th>1901</th>\n",
              "      <td>1992191514</td>\n",
              "      <td>Samie</td>\n",
              "      <td>Sina</td>\n",
              "      <td>NaN</td>\n",
              "      <td>MD</td>\n",
              "      <td>M</td>\n",
              "      <td>I</td>\n",
              "      <td>220 W 5th St Apt 304</td>\n",
              "      <td>NaN</td>\n",
              "      <td>Los Angeles</td>\n",
              "      <td>...</td>\n",
              "      <td>86</td>\n",
              "      <td>111</td>\n",
              "      <td>110</td>\n",
              "      <td>$85.00</td>\n",
              "      <td>$60.02</td>\n",
              "      <td>$47.84</td>\n",
              "      <td>45.42</td>\n",
              "      <td>$9,435.00</td>\n",
              "      <td>0.53</td>\n",
              "      <td>Pain management specialties</td>\n",
              "    </tr>\n",
              "    <tr>\n",
              "      <th>1902</th>\n",
              "      <td>1992783302</td>\n",
              "      <td>Levitan</td>\n",
              "      <td>Russ</td>\n",
              "      <td>L</td>\n",
              "      <td>M.D.</td>\n",
              "      <td>M</td>\n",
              "      <td>I</td>\n",
              "      <td>10 Santa Rosa St</td>\n",
              "      <td>Ste. 201</td>\n",
              "      <td>San Luis Obispo</td>\n",
              "      <td>...</td>\n",
              "      <td>42</td>\n",
              "      <td>64</td>\n",
              "      <td>55</td>\n",
              "      <td>$1,321.88</td>\n",
              "      <td>$59.84</td>\n",
              "      <td>$47.85</td>\n",
              "      <td>46.38</td>\n",
              "      <td>$84,600.32</td>\n",
              "      <td>0.04</td>\n",
              "      <td>Surgical specialties</td>\n",
              "    </tr>\n",
              "    <tr>\n",
              "      <th>1903</th>\n",
              "      <td>1992868368</td>\n",
              "      <td>Rahbar</td>\n",
              "      <td>Maryam</td>\n",
              "      <td>NaN</td>\n",
              "      <td>MD</td>\n",
              "      <td>F</td>\n",
              "      <td>I</td>\n",
              "      <td>17822 Beach Blvd Ste 152</td>\n",
              "      <td>NaN</td>\n",
              "      <td>Huntington Beach</td>\n",
              "      <td>...</td>\n",
              "      <td>61</td>\n",
              "      <td>97</td>\n",
              "      <td>92</td>\n",
              "      <td>$189.86</td>\n",
              "      <td>$59.36</td>\n",
              "      <td>$47.30</td>\n",
              "      <td>44.49</td>\n",
              "      <td>$18,416.42</td>\n",
              "      <td>0.23</td>\n",
              "      <td>Pain management specialties</td>\n",
              "    </tr>\n",
              "  </tbody>\n",
              "</table>\n",
              "<p>1904 rows × 32 columns</p>\n",
              "</div>\n",
              "      <button class=\"colab-df-convert\" onclick=\"convertToInteractive('df-a056763f-5fe2-482c-97bf-fe25630a5758')\"\n",
              "              title=\"Convert this dataframe to an interactive table.\"\n",
              "              style=\"display:none;\">\n",
              "        \n",
              "  <svg xmlns=\"http://www.w3.org/2000/svg\" height=\"24px\"viewBox=\"0 0 24 24\"\n",
              "       width=\"24px\">\n",
              "    <path d=\"M0 0h24v24H0V0z\" fill=\"none\"/>\n",
              "    <path d=\"M18.56 5.44l.94 2.06.94-2.06 2.06-.94-2.06-.94-.94-2.06-.94 2.06-2.06.94zm-11 1L8.5 8.5l.94-2.06 2.06-.94-2.06-.94L8.5 2.5l-.94 2.06-2.06.94zm10 10l.94 2.06.94-2.06 2.06-.94-2.06-.94-.94-2.06-.94 2.06-2.06.94z\"/><path d=\"M17.41 7.96l-1.37-1.37c-.4-.4-.92-.59-1.43-.59-.52 0-1.04.2-1.43.59L10.3 9.45l-7.72 7.72c-.78.78-.78 2.05 0 2.83L4 21.41c.39.39.9.59 1.41.59.51 0 1.02-.2 1.41-.59l7.78-7.78 2.81-2.81c.8-.78.8-2.07 0-2.86zM5.41 20L4 18.59l7.72-7.72 1.47 1.35L5.41 20z\"/>\n",
              "  </svg>\n",
              "      </button>\n",
              "      \n",
              "  <style>\n",
              "    .colab-df-container {\n",
              "      display:flex;\n",
              "      flex-wrap:wrap;\n",
              "      gap: 12px;\n",
              "    }\n",
              "\n",
              "    .colab-df-convert {\n",
              "      background-color: #E8F0FE;\n",
              "      border: none;\n",
              "      border-radius: 50%;\n",
              "      cursor: pointer;\n",
              "      display: none;\n",
              "      fill: #1967D2;\n",
              "      height: 32px;\n",
              "      padding: 0 0 0 0;\n",
              "      width: 32px;\n",
              "    }\n",
              "\n",
              "    .colab-df-convert:hover {\n",
              "      background-color: #E2EBFA;\n",
              "      box-shadow: 0px 1px 2px rgba(60, 64, 67, 0.3), 0px 1px 3px 1px rgba(60, 64, 67, 0.15);\n",
              "      fill: #174EA6;\n",
              "    }\n",
              "\n",
              "    [theme=dark] .colab-df-convert {\n",
              "      background-color: #3B4455;\n",
              "      fill: #D2E3FC;\n",
              "    }\n",
              "\n",
              "    [theme=dark] .colab-df-convert:hover {\n",
              "      background-color: #434B5C;\n",
              "      box-shadow: 0px 1px 3px 1px rgba(0, 0, 0, 0.15);\n",
              "      filter: drop-shadow(0px 1px 2px rgba(0, 0, 0, 0.3));\n",
              "      fill: #FFFFFF;\n",
              "    }\n",
              "  </style>\n",
              "\n",
              "      <script>\n",
              "        const buttonEl =\n",
              "          document.querySelector('#df-a056763f-5fe2-482c-97bf-fe25630a5758 button.colab-df-convert');\n",
              "        buttonEl.style.display =\n",
              "          google.colab.kernel.accessAllowed ? 'block' : 'none';\n",
              "\n",
              "        async function convertToInteractive(key) {\n",
              "          const element = document.querySelector('#df-a056763f-5fe2-482c-97bf-fe25630a5758');\n",
              "          const dataTable =\n",
              "            await google.colab.kernel.invokeFunction('convertToInteractive',\n",
              "                                                     [key], {});\n",
              "          if (!dataTable) return;\n",
              "\n",
              "          const docLinkHtml = 'Like what you see? Visit the ' +\n",
              "            '<a target=\"_blank\" href=https://colab.research.google.com/notebooks/data_table.ipynb>data table notebook</a>'\n",
              "            + ' to learn more about interactive tables.';\n",
              "          element.innerHTML = '';\n",
              "          dataTable['output_type'] = 'display_data';\n",
              "          await google.colab.output.renderOutput(dataTable, element);\n",
              "          const docLink = document.createElement('div');\n",
              "          docLink.innerHTML = docLinkHtml;\n",
              "          element.appendChild(docLink);\n",
              "        }\n",
              "      </script>\n",
              "    </div>\n",
              "  </div>\n",
              "  "
            ]
          },
          "metadata": {},
          "execution_count": 12
        }
      ]
    },
    {
      "cell_type": "code",
      "source": [
        "Rndrng_Prvdr_Zip5"
      ],
      "metadata": {
        "id": "F6s-cmAU51pb"
      },
      "id": "F6s-cmAU51pb",
      "execution_count": null,
      "outputs": []
    },
    {
      "cell_type": "code",
      "source": [
        "import pandas as pd\n",
        "from sklearn.cluster import KMeans\n",
        "from sklearn.preprocessing import StandardScaler\n",
        "\n",
        "# Assuming you have a dataframe called `california_doctors` with a column 'zip_code'\n",
        "# containing the zip codes for each doctor in California\n",
        "\n",
        "# Extract the zip codes as a separate dataframe\n",
        "zip_codes = cali[['Rndrng_Prvdr_Zip5']]\n",
        "\n",
        "# Scale the zip codes for better clustering performance\n",
        "scaler = StandardScaler()\n",
        "scaled_zip_codes = scaler.fit_transform(zip_codes)\n",
        "\n",
        "# Choose the number of clusters (you can adjust this number based on your requirements)\n",
        "n_clusters = 4\n",
        "\n",
        "# Apply KMeans clustering\n",
        "kmeans = KMeans(n_clusters=n_clusters, random_state=42)\n",
        "cali['cluster'] = kmeans.fit_predict(scaled_zip_codes)\n",
        "\n",
        "# Print the clustered doctors data\n",
        "cali[\"cluster\"].value_counts\n"
      ],
      "metadata": {
        "colab": {
          "base_uri": "https://localhost:8080/"
        },
        "id": "oNt21I4u51nF",
        "outputId": "4666fb46-fc65-418a-ada3-545712daa2f9"
      },
      "id": "oNt21I4u51nF",
      "execution_count": null,
      "outputs": [
        {
          "output_type": "stream",
          "name": "stderr",
          "text": [
            "/usr/local/lib/python3.9/dist-packages/sklearn/cluster/_kmeans.py:870: FutureWarning:\n",
            "\n",
            "The default value of `n_init` will change from 10 to 'auto' in 1.4. Set the value of `n_init` explicitly to suppress the warning\n",
            "\n"
          ]
        },
        {
          "output_type": "execute_result",
          "data": {
            "text/plain": [
              "<bound method IndexOpsMixin.value_counts of 0       1\n",
              "1       0\n",
              "2       0\n",
              "3       0\n",
              "4       3\n",
              "       ..\n",
              "1899    3\n",
              "1900    0\n",
              "1901    2\n",
              "1902    3\n",
              "1903    1\n",
              "Name: cluster, Length: 1904, dtype: int32>"
            ]
          },
          "metadata": {},
          "execution_count": 27
        }
      ]
    },
    {
      "cell_type": "code",
      "source": [
        "import pandas as pd\n",
        "from sklearn.cluster import KMeans\n",
        "from sklearn.preprocessing import StandardScaler\n",
        "\n",
        "# Assuming you have a dataframe called `california_doctors` with a column 'zip_code'\n",
        "# containing the zip codes for each doctor in California\n",
        "\n",
        "# Extract the zip codes as a separate dataframe\n",
        "zip_codes = cali[['Rndrng_Prvdr_Zip5']]\n",
        "\n",
        "# Scale the zip codes for better clustering performance\n",
        "scaler = StandardScaler()\n",
        "scaled_zip_codes = scaler.fit_transform(zip_codes)\n",
        "\n",
        "# Calculate WCSS for different number of clusters\n",
        "wcss = []\n",
        "max_clusters = 10\n",
        "\n",
        "for i in range(1, max_clusters + 1):\n",
        "    kmeans = KMeans(n_clusters=i, init='k-means++', max_iter=300, n_init=10, random_state=42)\n",
        "    kmeans.fit(scaled_zip_codes)\n",
        "    wcss.append(kmeans.inertia_)\n",
        "\n",
        "# Plot WCSS\n",
        "plt.plot(range(1, max_clusters + 1), wcss)\n",
        "plt.title('Elbow Method')\n",
        "plt.xlabel('Number of clusters')\n",
        "plt.ylabel('WCSS')\n",
        "plt.show()\n"
      ],
      "metadata": {
        "colab": {
          "base_uri": "https://localhost:8080/",
          "height": 295
        },
        "id": "16yG7lYR51kO",
        "outputId": "2f2e9bda-ebf0-4710-b22a-4ee2ccaf0f62"
      },
      "id": "16yG7lYR51kO",
      "execution_count": null,
      "outputs": [
        {
          "output_type": "display_data",
          "data": {
            "text/plain": [
              "<Figure size 432x288 with 1 Axes>"
            ],
            "image/png": "[encoded data removed]"
          },
          "metadata": {
            "needs_background": "light"
          }
        }
      ]
    },
    {
      "cell_type": "code",
      "source": [
        "cali.to_excel(\"/content/drive/MyDrive/Cali-Clustered.xlsx\")"
      ],
      "metadata": {
        "id": "R6mRSsxW51fT"
      },
      "id": "R6mRSsxW51fT",
      "execution_count": null,
      "outputs": []
    },
    {
      "cell_type": "code",
      "source": [
        "cali[\"cluster\"].groupby(\"cluster\")"
      ],
      "metadata": {
        "colab": {
          "base_uri": "https://localhost:8080/",
          "height": 318
        },
        "id": "H2JFxQgl51Lg",
        "outputId": "014a18f1-34de-45c0-ea9a-7ba75394c4eb"
      },
      "id": "H2JFxQgl51Lg",
      "execution_count": null,
      "outputs": [
        {
          "output_type": "error",
          "ename": "KeyError",
          "evalue": "ignored",
          "traceback": [
            "\u001b[0;31m---------------------------------------------------------------------------\u001b[0m",
            "\u001b[0;31mKeyError\u001b[0m                                  Traceback (most recent call last)",
            "\u001b[0;32m<ipython-input-24-75ac4b345a48>\u001b[0m in \u001b[0;36m<module>\u001b[0;34m\u001b[0m\n\u001b[0;32m----> 1\u001b[0;31m \u001b[0mcali\u001b[0m\u001b[0;34m[\u001b[0m\u001b[0;34m\"cluster\"\u001b[0m\u001b[0;34m]\u001b[0m\u001b[0;34m.\u001b[0m\u001b[0mgroupby\u001b[0m\u001b[0;34m(\u001b[0m\u001b[0;34m\"cluster\"\u001b[0m\u001b[0;34m)\u001b[0m\u001b[0;34m\u001b[0m\u001b[0;34m\u001b[0m\u001b[0m\n\u001b[0m",
            "\u001b[0;32m/usr/local/lib/python3.9/dist-packages/pandas/core/series.py\u001b[0m in \u001b[0;36mgroupby\u001b[0;34m(self, by, axis, level, as_index, sort, group_keys, squeeze, observed, dropna)\u001b[0m\n\u001b[1;32m   1920\u001b[0m         \u001b[0;31m# error: Argument \"squeeze\" to \"SeriesGroupBy\" has incompatible type\u001b[0m\u001b[0;34m\u001b[0m\u001b[0;34m\u001b[0m\u001b[0m\n\u001b[1;32m   1921\u001b[0m         \u001b[0;31m# \"Union[bool, NoDefault]\"; expected \"bool\"\u001b[0m\u001b[0;34m\u001b[0m\u001b[0;34m\u001b[0m\u001b[0m\n\u001b[0;32m-> 1922\u001b[0;31m         return SeriesGroupBy(\n\u001b[0m\u001b[1;32m   1923\u001b[0m             \u001b[0mobj\u001b[0m\u001b[0;34m=\u001b[0m\u001b[0mself\u001b[0m\u001b[0;34m,\u001b[0m\u001b[0;34m\u001b[0m\u001b[0;34m\u001b[0m\u001b[0m\n\u001b[1;32m   1924\u001b[0m             \u001b[0mkeys\u001b[0m\u001b[0;34m=\u001b[0m\u001b[0mby\u001b[0m\u001b[0;34m,\u001b[0m\u001b[0;34m\u001b[0m\u001b[0;34m\u001b[0m\u001b[0m\n",
            "\u001b[0;32m/usr/local/lib/python3.9/dist-packages/pandas/core/groupby/groupby.py\u001b[0m in \u001b[0;36m__init__\u001b[0;34m(self, obj, keys, axis, level, grouper, exclusions, selection, as_index, sort, group_keys, squeeze, observed, mutated, dropna)\u001b[0m\n\u001b[1;32m    880\u001b[0m             \u001b[0;32mfrom\u001b[0m \u001b[0mpandas\u001b[0m\u001b[0;34m.\u001b[0m\u001b[0mcore\u001b[0m\u001b[0;34m.\u001b[0m\u001b[0mgroupby\u001b[0m\u001b[0;34m.\u001b[0m\u001b[0mgrouper\u001b[0m \u001b[0;32mimport\u001b[0m \u001b[0mget_grouper\u001b[0m\u001b[0;34m\u001b[0m\u001b[0;34m\u001b[0m\u001b[0m\n\u001b[1;32m    881\u001b[0m \u001b[0;34m\u001b[0m\u001b[0m\n\u001b[0;32m--> 882\u001b[0;31m             grouper, exclusions, obj = get_grouper(\n\u001b[0m\u001b[1;32m    883\u001b[0m                 \u001b[0mobj\u001b[0m\u001b[0;34m,\u001b[0m\u001b[0;34m\u001b[0m\u001b[0;34m\u001b[0m\u001b[0m\n\u001b[1;32m    884\u001b[0m                 \u001b[0mkeys\u001b[0m\u001b[0;34m,\u001b[0m\u001b[0;34m\u001b[0m\u001b[0;34m\u001b[0m\u001b[0m\n",
            "\u001b[0;32m/usr/local/lib/python3.9/dist-packages/pandas/core/groupby/grouper.py\u001b[0m in \u001b[0;36mget_grouper\u001b[0;34m(obj, key, axis, level, sort, observed, mutated, validate, dropna)\u001b[0m\n\u001b[1;32m    880\u001b[0m                 \u001b[0min_axis\u001b[0m\u001b[0;34m,\u001b[0m \u001b[0mlevel\u001b[0m\u001b[0;34m,\u001b[0m \u001b[0mgpr\u001b[0m \u001b[0;34m=\u001b[0m \u001b[0;32mFalse\u001b[0m\u001b[0;34m,\u001b[0m \u001b[0mgpr\u001b[0m\u001b[0;34m,\u001b[0m \u001b[0;32mNone\u001b[0m\u001b[0;34m\u001b[0m\u001b[0;34m\u001b[0m\u001b[0m\n\u001b[1;32m    881\u001b[0m             \u001b[0;32melse\u001b[0m\u001b[0;34m:\u001b[0m\u001b[0;34m\u001b[0m\u001b[0;34m\u001b[0m\u001b[0m\n\u001b[0;32m--> 882\u001b[0;31m                 \u001b[0;32mraise\u001b[0m \u001b[0mKeyError\u001b[0m\u001b[0;34m(\u001b[0m\u001b[0mgpr\u001b[0m\u001b[0;34m)\u001b[0m\u001b[0;34m\u001b[0m\u001b[0;34m\u001b[0m\u001b[0m\n\u001b[0m\u001b[1;32m    883\u001b[0m         \u001b[0;32melif\u001b[0m \u001b[0misinstance\u001b[0m\u001b[0;34m(\u001b[0m\u001b[0mgpr\u001b[0m\u001b[0;34m,\u001b[0m \u001b[0mGrouper\u001b[0m\u001b[0;34m)\u001b[0m \u001b[0;32mand\u001b[0m \u001b[0mgpr\u001b[0m\u001b[0;34m.\u001b[0m\u001b[0mkey\u001b[0m \u001b[0;32mis\u001b[0m \u001b[0;32mnot\u001b[0m \u001b[0;32mNone\u001b[0m\u001b[0;34m:\u001b[0m\u001b[0;34m\u001b[0m\u001b[0;34m\u001b[0m\u001b[0m\n\u001b[1;32m    884\u001b[0m             \u001b[0;31m# Add key to exclusions\u001b[0m\u001b[0;34m\u001b[0m\u001b[0;34m\u001b[0m\u001b[0m\n",
            "\u001b[0;31mKeyError\u001b[0m: 'cluster'"
          ]
        }
      ]
    }
  ],
  "metadata": {
    "kernelspec": {
      "display_name": "Python 3 (ipykernel)",
      "language": "python",
      "name": "python3"
    },
    "language_info": {
      "codemirror_mode": {
        "name": "ipython",
        "version": 3
      },
      "file_extension": ".py",
      "mimetype": "text/x-python",
      "name": "python",
      "nbconvert_exporter": "python",
      "pygments_lexer": "ipython3",
      "version": "3.9.12"
    },
    "colab": {
      "provenance": []
    }
  },
  "nbformat": 4,
  "nbformat_minor": 5
}